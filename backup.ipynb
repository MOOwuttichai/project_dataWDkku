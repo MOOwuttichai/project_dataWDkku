{
  "nbformat": 4,
  "nbformat_minor": 0,
  "metadata": {
    "colab": {
      "provenance": [],
      "toc_visible": true,
      "authorship_tag": "ABX9TyMLKCZS6ze4bFu2scmXsUxs",
      "include_colab_link": true
    },
    "kernelspec": {
      "name": "python3",
      "display_name": "Python 3"
    },
    "language_info": {
      "name": "python"
    }
  },
  "cells": [
    {
      "cell_type": "markdown",
      "metadata": {
        "id": "view-in-github",
        "colab_type": "text"
      },
      "source": [
        "<a href=\"https://colab.research.google.com/github/MOOwuttichai/project_dataWDkku/blob/main/backup.ipynb\" target=\"_parent\"><img src=\"https://colab.research.google.com/assets/colab-badge.svg\" alt=\"Open In Colab\"/></a>"
      ]
    },
    {
      "cell_type": "markdown",
      "source": [],
      "metadata": {
        "id": "01F-5QA4C-F-"
      }
    },
    {
      "cell_type": "code",
      "source": [
        "!pip install attacut\n",
        "# pip install required modules\n",
        "# uncomment if running from colab\n",
        "# see list of modules in `requirements` and `extras`\n",
        "# in https://github.com/PyThaiNLP/pythainlp/blob/dev/setup.py\n",
        "\n",
        "!pip install pythainlp\n",
        "!pip install epitran"
      ],
      "metadata": {
        "colab": {
          "base_uri": "https://localhost:8080/"
        },
        "id": "RsN5iaY3PnTv",
        "outputId": "23e37c6d-d73d-48ca-db4b-452abe25d62f"
      },
      "execution_count": 176,
      "outputs": [
        {
          "output_type": "stream",
          "name": "stdout",
          "text": [
            "Requirement already satisfied: attacut in /usr/local/lib/python3.10/dist-packages (1.0.6)\n",
            "Requirement already satisfied: docopt>=0.6.2 in /usr/local/lib/python3.10/dist-packages (from attacut) (0.6.2)\n",
            "Requirement already satisfied: fire>=0.1.3 in /usr/local/lib/python3.10/dist-packages (from attacut) (0.6.0)\n",
            "Requirement already satisfied: nptyping>=0.2.0 in /usr/local/lib/python3.10/dist-packages (from attacut) (2.5.0)\n",
            "Requirement already satisfied: numpy>=1.17.0 in /usr/local/lib/python3.10/dist-packages (from attacut) (1.25.2)\n",
            "Requirement already satisfied: pyyaml>=5.1.2 in /usr/local/lib/python3.10/dist-packages (from attacut) (6.0.1)\n",
            "Requirement already satisfied: six>=1.12.0 in /usr/local/lib/python3.10/dist-packages (from attacut) (1.16.0)\n",
            "Requirement already satisfied: ssg>=0.0.4 in /usr/local/lib/python3.10/dist-packages (from attacut) (0.0.8)\n",
            "Requirement already satisfied: torch>=1.2.0 in /usr/local/lib/python3.10/dist-packages (from attacut) (2.1.0+cu121)\n",
            "Requirement already satisfied: termcolor in /usr/local/lib/python3.10/dist-packages (from fire>=0.1.3->attacut) (2.4.0)\n",
            "Requirement already satisfied: python-crfsuite>=0.9.6 in /usr/local/lib/python3.10/dist-packages (from ssg>=0.0.4->attacut) (0.9.10)\n",
            "Requirement already satisfied: tqdm>=4.32.2 in /usr/local/lib/python3.10/dist-packages (from ssg>=0.0.4->attacut) (4.66.2)\n",
            "Requirement already satisfied: filelock in /usr/local/lib/python3.10/dist-packages (from torch>=1.2.0->attacut) (3.13.1)\n",
            "Requirement already satisfied: typing-extensions in /usr/local/lib/python3.10/dist-packages (from torch>=1.2.0->attacut) (4.10.0)\n",
            "Requirement already satisfied: sympy in /usr/local/lib/python3.10/dist-packages (from torch>=1.2.0->attacut) (1.12)\n",
            "Requirement already satisfied: networkx in /usr/local/lib/python3.10/dist-packages (from torch>=1.2.0->attacut) (3.2.1)\n",
            "Requirement already satisfied: jinja2 in /usr/local/lib/python3.10/dist-packages (from torch>=1.2.0->attacut) (3.1.3)\n",
            "Requirement already satisfied: fsspec in /usr/local/lib/python3.10/dist-packages (from torch>=1.2.0->attacut) (2023.6.0)\n",
            "Requirement already satisfied: triton==2.1.0 in /usr/local/lib/python3.10/dist-packages (from torch>=1.2.0->attacut) (2.1.0)\n",
            "Requirement already satisfied: MarkupSafe>=2.0 in /usr/local/lib/python3.10/dist-packages (from jinja2->torch>=1.2.0->attacut) (2.1.5)\n",
            "Requirement already satisfied: mpmath>=0.19 in /usr/local/lib/python3.10/dist-packages (from sympy->torch>=1.2.0->attacut) (1.3.0)\n",
            "Requirement already satisfied: pythainlp in /usr/local/lib/python3.10/dist-packages (5.0.1)\n",
            "Requirement already satisfied: requests>=2.22.0 in /usr/local/lib/python3.10/dist-packages (from pythainlp) (2.31.0)\n",
            "Requirement already satisfied: charset-normalizer<4,>=2 in /usr/local/lib/python3.10/dist-packages (from requests>=2.22.0->pythainlp) (3.3.2)\n",
            "Requirement already satisfied: idna<4,>=2.5 in /usr/local/lib/python3.10/dist-packages (from requests>=2.22.0->pythainlp) (3.6)\n",
            "Requirement already satisfied: urllib3<3,>=1.21.1 in /usr/local/lib/python3.10/dist-packages (from requests>=2.22.0->pythainlp) (2.0.7)\n",
            "Requirement already satisfied: certifi>=2017.4.17 in /usr/local/lib/python3.10/dist-packages (from requests>=2.22.0->pythainlp) (2024.2.2)\n",
            "Requirement already satisfied: epitran in /usr/local/lib/python3.10/dist-packages (1.25)\n",
            "Requirement already satisfied: setuptools in /usr/local/lib/python3.10/dist-packages (from epitran) (67.7.2)\n",
            "Requirement already satisfied: regex in /usr/local/lib/python3.10/dist-packages (from epitran) (2023.12.25)\n",
            "Requirement already satisfied: panphon>=0.20 in /usr/local/lib/python3.10/dist-packages (from epitran) (0.20.0)\n",
            "Requirement already satisfied: marisa-trie in /usr/local/lib/python3.10/dist-packages (from epitran) (1.1.0)\n",
            "Requirement already satisfied: requests in /usr/local/lib/python3.10/dist-packages (from epitran) (2.31.0)\n",
            "Requirement already satisfied: unicodecsv in /usr/local/lib/python3.10/dist-packages (from panphon>=0.20->epitran) (0.14.1)\n",
            "Requirement already satisfied: PyYAML in /usr/local/lib/python3.10/dist-packages (from panphon>=0.20->epitran) (6.0.1)\n",
            "Requirement already satisfied: numpy>=1.20.2 in /usr/local/lib/python3.10/dist-packages (from panphon>=0.20->epitran) (1.25.2)\n",
            "Requirement already satisfied: editdistance in /usr/local/lib/python3.10/dist-packages (from panphon>=0.20->epitran) (0.6.2)\n",
            "Requirement already satisfied: munkres in /usr/local/lib/python3.10/dist-packages (from panphon>=0.20->epitran) (1.1.4)\n",
            "Requirement already satisfied: charset-normalizer<4,>=2 in /usr/local/lib/python3.10/dist-packages (from requests->epitran) (3.3.2)\n",
            "Requirement already satisfied: idna<4,>=2.5 in /usr/local/lib/python3.10/dist-packages (from requests->epitran) (3.6)\n",
            "Requirement already satisfied: urllib3<3,>=1.21.1 in /usr/local/lib/python3.10/dist-packages (from requests->epitran) (2.0.7)\n",
            "Requirement already satisfied: certifi>=2017.4.17 in /usr/local/lib/python3.10/dist-packages (from requests->epitran) (2024.2.2)\n"
          ]
        }
      ]
    },
    {
      "cell_type": "code",
      "source": [
        "import pandas as pd\n",
        "from google.colab import drive\n",
        "from attacut import tokenize, Tokenizer\n",
        "import pythainlp\n",
        "from pythainlp import sent_tokenize, word_tokenize, Tokenizer\n",
        "from pythainlp.util import normalize\n",
        "from pythainlp.corpus.common import thai_words\n",
        "from collections import OrderedDict\n",
        "drive.mount('/content/drive')"
      ],
      "metadata": {
        "colab": {
          "base_uri": "https://localhost:8080/"
        },
        "id": "F1K10T_rDKSg",
        "outputId": "f2ff6c77-f1b2-44f3-a4bb-b27471c1328f"
      },
      "execution_count": 197,
      "outputs": [
        {
          "output_type": "stream",
          "name": "stdout",
          "text": [
            "Drive already mounted at /content/drive; to attempt to forcibly remount, call drive.mount(\"/content/drive\", force_remount=True).\n"
          ]
        }
      ]
    },
    {
      "cell_type": "markdown",
      "source": [
        "#data"
      ],
      "metadata": {
        "id": "rrHi897gC7hl"
      }
    },
    {
      "cell_type": "code",
      "execution_count": 251,
      "metadata": {
        "id": "3xQLGRduC5e3"
      },
      "outputs": [],
      "source": [
        "data = pd.read_csv('/content/drive/MyDrive/Carbon/data/ดึงข้อความFacbook - Sheet1.csv')\n",
        "x=data[data[\"คำพูดโรค\"].str.contains(\"มะเร็ง\")]\n",
        "x=x.drop_duplicates(subset=['ชื่อ'], keep='first').reset_index()"
      ]
    },
    {
      "cell_type": "code",
      "source": [
        "x"
      ],
      "metadata": {
        "colab": {
          "base_uri": "https://localhost:8080/",
          "height": 423
        },
        "id": "czj_ihXxdJTz",
        "outputId": "0cbfcff1-f1f2-44db-ca13-e7229d89427b"
      },
      "execution_count": 252,
      "outputs": [
        {
          "output_type": "execute_result",
          "data": {
            "text/plain": [
              "     index  ลำดับที่                    ชื่อ  \\\n",
              "0        0         1        Wiraon Chuenchom   \n",
              "1        2         3         ภาณุภัทร อิ่มใจ   \n",
              "2        3         4             Paradee Chu   \n",
              "3        6         7   Chanunpak Tuntisaewee   \n",
              "4        7         8      Phutthakhun Circle   \n",
              "..     ...       ...                     ...   \n",
              "863   1353      1354          Kanida Tungchu   \n",
              "864   1356      1357            Tee ChinKung   \n",
              "865   1358      1359          Nanthaporn Daw   \n",
              "866   1360      1361     Kotchakorn Nuamkeaw   \n",
              "867   1364      1365  เสาวพรรณ จูฑะวชิรโรจน์   \n",
              "\n",
              "                                              คำพูดโรค  \n",
              "0    ตระกูลทางผมก็มะเร็งทั้งย่า อา แต่ที่เคยคุยกับค...  \n",
              "1    แฟนเป็นมะเร็งต่อมน้ำเหลืองครับ\\r\\nอาการครับ\\r\\...  \n",
              "2    ของเราเป็นมะเร็งกระเพาะปัสสวะ เจอได้จากการตรวจ...  \n",
              "3    ของเราไม่มีอาการอะไรของมะเร็งเลยค่ะ ตั้งแต่ตรว...  \n",
              "4    แม่ผมก็ตรวจโดยบังเอิญเจอมะเร็งลำไส้ระยะที่2ครั...  \n",
              "..                                                 ...  \n",
              "863  พ่อเป็นมะเร็งตับ อาการที่เริ่มแรกมีอาการจุกเสี...  \n",
              "864  ของพ่อผมบ่นท้องอืดท้องแน่นตลอด แต่ก็ไม่ได้เอะใ...  \n",
              "865  พี่ชายเสียด้วยโรคมะเร็งตับเช่นกันค่ะ ยังเคยคิด...  \n",
              "866  เหมือนพ่อเราเลยค่ะ จุกเสียด ไป รพ.หมอจ่ายยาโรค...  \n",
              "867  ลูกสาว อายุ 17 เป็นมะเร็งรังไข่ เจอก้อนใหญ่ 30...  \n",
              "\n",
              "[868 rows x 4 columns]"
            ],
            "text/html": [
              "\n",
              "  <div id=\"df-cd0c6944-7bac-4d28-b631-fcceef43e0c4\" class=\"colab-df-container\">\n",
              "    <div>\n",
              "<style scoped>\n",
              "    .dataframe tbody tr th:only-of-type {\n",
              "        vertical-align: middle;\n",
              "    }\n",
              "\n",
              "    .dataframe tbody tr th {\n",
              "        vertical-align: top;\n",
              "    }\n",
              "\n",
              "    .dataframe thead th {\n",
              "        text-align: right;\n",
              "    }\n",
              "</style>\n",
              "<table border=\"1\" class=\"dataframe\">\n",
              "  <thead>\n",
              "    <tr style=\"text-align: right;\">\n",
              "      <th></th>\n",
              "      <th>index</th>\n",
              "      <th>ลำดับที่</th>\n",
              "      <th>ชื่อ</th>\n",
              "      <th>คำพูดโรค</th>\n",
              "    </tr>\n",
              "  </thead>\n",
              "  <tbody>\n",
              "    <tr>\n",
              "      <th>0</th>\n",
              "      <td>0</td>\n",
              "      <td>1</td>\n",
              "      <td>Wiraon Chuenchom</td>\n",
              "      <td>ตระกูลทางผมก็มะเร็งทั้งย่า อา แต่ที่เคยคุยกับค...</td>\n",
              "    </tr>\n",
              "    <tr>\n",
              "      <th>1</th>\n",
              "      <td>2</td>\n",
              "      <td>3</td>\n",
              "      <td>ภาณุภัทร อิ่มใจ</td>\n",
              "      <td>แฟนเป็นมะเร็งต่อมน้ำเหลืองครับ\\r\\nอาการครับ\\r\\...</td>\n",
              "    </tr>\n",
              "    <tr>\n",
              "      <th>2</th>\n",
              "      <td>3</td>\n",
              "      <td>4</td>\n",
              "      <td>Paradee Chu</td>\n",
              "      <td>ของเราเป็นมะเร็งกระเพาะปัสสวะ เจอได้จากการตรวจ...</td>\n",
              "    </tr>\n",
              "    <tr>\n",
              "      <th>3</th>\n",
              "      <td>6</td>\n",
              "      <td>7</td>\n",
              "      <td>Chanunpak Tuntisaewee</td>\n",
              "      <td>ของเราไม่มีอาการอะไรของมะเร็งเลยค่ะ ตั้งแต่ตรว...</td>\n",
              "    </tr>\n",
              "    <tr>\n",
              "      <th>4</th>\n",
              "      <td>7</td>\n",
              "      <td>8</td>\n",
              "      <td>Phutthakhun Circle</td>\n",
              "      <td>แม่ผมก็ตรวจโดยบังเอิญเจอมะเร็งลำไส้ระยะที่2ครั...</td>\n",
              "    </tr>\n",
              "    <tr>\n",
              "      <th>...</th>\n",
              "      <td>...</td>\n",
              "      <td>...</td>\n",
              "      <td>...</td>\n",
              "      <td>...</td>\n",
              "    </tr>\n",
              "    <tr>\n",
              "      <th>863</th>\n",
              "      <td>1353</td>\n",
              "      <td>1354</td>\n",
              "      <td>Kanida Tungchu</td>\n",
              "      <td>พ่อเป็นมะเร็งตับ อาการที่เริ่มแรกมีอาการจุกเสี...</td>\n",
              "    </tr>\n",
              "    <tr>\n",
              "      <th>864</th>\n",
              "      <td>1356</td>\n",
              "      <td>1357</td>\n",
              "      <td>Tee ChinKung</td>\n",
              "      <td>ของพ่อผมบ่นท้องอืดท้องแน่นตลอด แต่ก็ไม่ได้เอะใ...</td>\n",
              "    </tr>\n",
              "    <tr>\n",
              "      <th>865</th>\n",
              "      <td>1358</td>\n",
              "      <td>1359</td>\n",
              "      <td>Nanthaporn Daw</td>\n",
              "      <td>พี่ชายเสียด้วยโรคมะเร็งตับเช่นกันค่ะ ยังเคยคิด...</td>\n",
              "    </tr>\n",
              "    <tr>\n",
              "      <th>866</th>\n",
              "      <td>1360</td>\n",
              "      <td>1361</td>\n",
              "      <td>Kotchakorn Nuamkeaw</td>\n",
              "      <td>เหมือนพ่อเราเลยค่ะ จุกเสียด ไป รพ.หมอจ่ายยาโรค...</td>\n",
              "    </tr>\n",
              "    <tr>\n",
              "      <th>867</th>\n",
              "      <td>1364</td>\n",
              "      <td>1365</td>\n",
              "      <td>เสาวพรรณ จูฑะวชิรโรจน์</td>\n",
              "      <td>ลูกสาว อายุ 17 เป็นมะเร็งรังไข่ เจอก้อนใหญ่ 30...</td>\n",
              "    </tr>\n",
              "  </tbody>\n",
              "</table>\n",
              "<p>868 rows × 4 columns</p>\n",
              "</div>\n",
              "    <div class=\"colab-df-buttons\">\n",
              "\n",
              "  <div class=\"colab-df-container\">\n",
              "    <button class=\"colab-df-convert\" onclick=\"convertToInteractive('df-cd0c6944-7bac-4d28-b631-fcceef43e0c4')\"\n",
              "            title=\"Convert this dataframe to an interactive table.\"\n",
              "            style=\"display:none;\">\n",
              "\n",
              "  <svg xmlns=\"http://www.w3.org/2000/svg\" height=\"24px\" viewBox=\"0 -960 960 960\">\n",
              "    <path d=\"M120-120v-720h720v720H120Zm60-500h600v-160H180v160Zm220 220h160v-160H400v160Zm0 220h160v-160H400v160ZM180-400h160v-160H180v160Zm440 0h160v-160H620v160ZM180-180h160v-160H180v160Zm440 0h160v-160H620v160Z\"/>\n",
              "  </svg>\n",
              "    </button>\n",
              "\n",
              "  <style>\n",
              "    .colab-df-container {\n",
              "      display:flex;\n",
              "      gap: 12px;\n",
              "    }\n",
              "\n",
              "    .colab-df-convert {\n",
              "      background-color: #E8F0FE;\n",
              "      border: none;\n",
              "      border-radius: 50%;\n",
              "      cursor: pointer;\n",
              "      display: none;\n",
              "      fill: #1967D2;\n",
              "      height: 32px;\n",
              "      padding: 0 0 0 0;\n",
              "      width: 32px;\n",
              "    }\n",
              "\n",
              "    .colab-df-convert:hover {\n",
              "      background-color: #E2EBFA;\n",
              "      box-shadow: 0px 1px 2px rgba(60, 64, 67, 0.3), 0px 1px 3px 1px rgba(60, 64, 67, 0.15);\n",
              "      fill: #174EA6;\n",
              "    }\n",
              "\n",
              "    .colab-df-buttons div {\n",
              "      margin-bottom: 4px;\n",
              "    }\n",
              "\n",
              "    [theme=dark] .colab-df-convert {\n",
              "      background-color: #3B4455;\n",
              "      fill: #D2E3FC;\n",
              "    }\n",
              "\n",
              "    [theme=dark] .colab-df-convert:hover {\n",
              "      background-color: #434B5C;\n",
              "      box-shadow: 0px 1px 3px 1px rgba(0, 0, 0, 0.15);\n",
              "      filter: drop-shadow(0px 1px 2px rgba(0, 0, 0, 0.3));\n",
              "      fill: #FFFFFF;\n",
              "    }\n",
              "  </style>\n",
              "\n",
              "    <script>\n",
              "      const buttonEl =\n",
              "        document.querySelector('#df-cd0c6944-7bac-4d28-b631-fcceef43e0c4 button.colab-df-convert');\n",
              "      buttonEl.style.display =\n",
              "        google.colab.kernel.accessAllowed ? 'block' : 'none';\n",
              "\n",
              "      async function convertToInteractive(key) {\n",
              "        const element = document.querySelector('#df-cd0c6944-7bac-4d28-b631-fcceef43e0c4');\n",
              "        const dataTable =\n",
              "          await google.colab.kernel.invokeFunction('convertToInteractive',\n",
              "                                                    [key], {});\n",
              "        if (!dataTable) return;\n",
              "\n",
              "        const docLinkHtml = 'Like what you see? Visit the ' +\n",
              "          '<a target=\"_blank\" href=https://colab.research.google.com/notebooks/data_table.ipynb>data table notebook</a>'\n",
              "          + ' to learn more about interactive tables.';\n",
              "        element.innerHTML = '';\n",
              "        dataTable['output_type'] = 'display_data';\n",
              "        await google.colab.output.renderOutput(dataTable, element);\n",
              "        const docLink = document.createElement('div');\n",
              "        docLink.innerHTML = docLinkHtml;\n",
              "        element.appendChild(docLink);\n",
              "      }\n",
              "    </script>\n",
              "  </div>\n",
              "\n",
              "\n",
              "<div id=\"df-f52ad5de-7ca5-455b-a57c-9c53b3c71c12\">\n",
              "  <button class=\"colab-df-quickchart\" onclick=\"quickchart('df-f52ad5de-7ca5-455b-a57c-9c53b3c71c12')\"\n",
              "            title=\"Suggest charts\"\n",
              "            style=\"display:none;\">\n",
              "\n",
              "<svg xmlns=\"http://www.w3.org/2000/svg\" height=\"24px\"viewBox=\"0 0 24 24\"\n",
              "     width=\"24px\">\n",
              "    <g>\n",
              "        <path d=\"M19 3H5c-1.1 0-2 .9-2 2v14c0 1.1.9 2 2 2h14c1.1 0 2-.9 2-2V5c0-1.1-.9-2-2-2zM9 17H7v-7h2v7zm4 0h-2V7h2v10zm4 0h-2v-4h2v4z\"/>\n",
              "    </g>\n",
              "</svg>\n",
              "  </button>\n",
              "\n",
              "<style>\n",
              "  .colab-df-quickchart {\n",
              "      --bg-color: #E8F0FE;\n",
              "      --fill-color: #1967D2;\n",
              "      --hover-bg-color: #E2EBFA;\n",
              "      --hover-fill-color: #174EA6;\n",
              "      --disabled-fill-color: #AAA;\n",
              "      --disabled-bg-color: #DDD;\n",
              "  }\n",
              "\n",
              "  [theme=dark] .colab-df-quickchart {\n",
              "      --bg-color: #3B4455;\n",
              "      --fill-color: #D2E3FC;\n",
              "      --hover-bg-color: #434B5C;\n",
              "      --hover-fill-color: #FFFFFF;\n",
              "      --disabled-bg-color: #3B4455;\n",
              "      --disabled-fill-color: #666;\n",
              "  }\n",
              "\n",
              "  .colab-df-quickchart {\n",
              "    background-color: var(--bg-color);\n",
              "    border: none;\n",
              "    border-radius: 50%;\n",
              "    cursor: pointer;\n",
              "    display: none;\n",
              "    fill: var(--fill-color);\n",
              "    height: 32px;\n",
              "    padding: 0;\n",
              "    width: 32px;\n",
              "  }\n",
              "\n",
              "  .colab-df-quickchart:hover {\n",
              "    background-color: var(--hover-bg-color);\n",
              "    box-shadow: 0 1px 2px rgba(60, 64, 67, 0.3), 0 1px 3px 1px rgba(60, 64, 67, 0.15);\n",
              "    fill: var(--button-hover-fill-color);\n",
              "  }\n",
              "\n",
              "  .colab-df-quickchart-complete:disabled,\n",
              "  .colab-df-quickchart-complete:disabled:hover {\n",
              "    background-color: var(--disabled-bg-color);\n",
              "    fill: var(--disabled-fill-color);\n",
              "    box-shadow: none;\n",
              "  }\n",
              "\n",
              "  .colab-df-spinner {\n",
              "    border: 2px solid var(--fill-color);\n",
              "    border-color: transparent;\n",
              "    border-bottom-color: var(--fill-color);\n",
              "    animation:\n",
              "      spin 1s steps(1) infinite;\n",
              "  }\n",
              "\n",
              "  @keyframes spin {\n",
              "    0% {\n",
              "      border-color: transparent;\n",
              "      border-bottom-color: var(--fill-color);\n",
              "      border-left-color: var(--fill-color);\n",
              "    }\n",
              "    20% {\n",
              "      border-color: transparent;\n",
              "      border-left-color: var(--fill-color);\n",
              "      border-top-color: var(--fill-color);\n",
              "    }\n",
              "    30% {\n",
              "      border-color: transparent;\n",
              "      border-left-color: var(--fill-color);\n",
              "      border-top-color: var(--fill-color);\n",
              "      border-right-color: var(--fill-color);\n",
              "    }\n",
              "    40% {\n",
              "      border-color: transparent;\n",
              "      border-right-color: var(--fill-color);\n",
              "      border-top-color: var(--fill-color);\n",
              "    }\n",
              "    60% {\n",
              "      border-color: transparent;\n",
              "      border-right-color: var(--fill-color);\n",
              "    }\n",
              "    80% {\n",
              "      border-color: transparent;\n",
              "      border-right-color: var(--fill-color);\n",
              "      border-bottom-color: var(--fill-color);\n",
              "    }\n",
              "    90% {\n",
              "      border-color: transparent;\n",
              "      border-bottom-color: var(--fill-color);\n",
              "    }\n",
              "  }\n",
              "</style>\n",
              "\n",
              "  <script>\n",
              "    async function quickchart(key) {\n",
              "      const quickchartButtonEl =\n",
              "        document.querySelector('#' + key + ' button');\n",
              "      quickchartButtonEl.disabled = true;  // To prevent multiple clicks.\n",
              "      quickchartButtonEl.classList.add('colab-df-spinner');\n",
              "      try {\n",
              "        const charts = await google.colab.kernel.invokeFunction(\n",
              "            'suggestCharts', [key], {});\n",
              "      } catch (error) {\n",
              "        console.error('Error during call to suggestCharts:', error);\n",
              "      }\n",
              "      quickchartButtonEl.classList.remove('colab-df-spinner');\n",
              "      quickchartButtonEl.classList.add('colab-df-quickchart-complete');\n",
              "    }\n",
              "    (() => {\n",
              "      let quickchartButtonEl =\n",
              "        document.querySelector('#df-f52ad5de-7ca5-455b-a57c-9c53b3c71c12 button');\n",
              "      quickchartButtonEl.style.display =\n",
              "        google.colab.kernel.accessAllowed ? 'block' : 'none';\n",
              "    })();\n",
              "  </script>\n",
              "</div>\n",
              "    </div>\n",
              "  </div>\n"
            ],
            "application/vnd.google.colaboratory.intrinsic+json": {
              "type": "dataframe",
              "variable_name": "x",
              "summary": "{\n  \"name\": \"x\",\n  \"rows\": 868,\n  \"fields\": [\n    {\n      \"column\": \"index\",\n      \"properties\": {\n        \"dtype\": \"number\",\n        \"std\": 357,\n        \"min\": 0,\n        \"max\": 1364,\n        \"num_unique_values\": 868,\n        \"samples\": [\n          717,\n          183,\n          833\n        ],\n        \"semantic_type\": \"\",\n        \"description\": \"\"\n      }\n    },\n    {\n      \"column\": \"\\u0e25\\u0e33\\u0e14\\u0e31\\u0e1a\\u0e17\\u0e35\\u0e48\",\n      \"properties\": {\n        \"dtype\": \"number\",\n        \"std\": 357,\n        \"min\": 1,\n        \"max\": 1365,\n        \"num_unique_values\": 868,\n        \"samples\": [\n          718,\n          184,\n          834\n        ],\n        \"semantic_type\": \"\",\n        \"description\": \"\"\n      }\n    },\n    {\n      \"column\": \"\\u0e0a\\u0e37\\u0e48\\u0e2d\",\n      \"properties\": {\n        \"dtype\": \"string\",\n        \"num_unique_values\": 868,\n        \"samples\": [\n          \"\\u0e15\\u0e34\\u0e4a\\u0e01 \\u0e13\\u0e31\\u0e10\\u0e23\\u0e34\\u0e19\\u0e17\\u0e23\\u0e4c\\r\\n \",\n          \"Earn Phallapha\",\n          \"Nun Pornnaun\"\n        ],\n        \"semantic_type\": \"\",\n        \"description\": \"\"\n      }\n    },\n    {\n      \"column\": \"\\u0e04\\u0e33\\u0e1e\\u0e39\\u0e14\\u0e42\\u0e23\\u0e04\",\n      \"properties\": {\n        \"dtype\": \"string\",\n        \"num_unique_values\": 868,\n        \"samples\": [\n          \"\\u0e1e\\u0e35\\u0e48\\u0e2a\\u0e32\\u0e27\\u0e40\\u0e1b\\u0e47\\u0e19\\u0e21\\u0e30\\u0e40\\u0e23\\u0e47\\u0e07\\u0e1b\\u0e2d\\u0e14 \\u0e23\\u0e30\\u0e22\\u0e30\\u0e41\\u0e1e\\u0e23\\u0e48\\u0e01\\u0e23\\u0e30\\u0e08\\u0e32\\u0e22\\r\\n\\u0e40\\u0e23\\u0e34\\u0e48\\u0e21\\u0e08\\u0e32\\u0e01\\u0e2d\\u0e32\\u0e01\\u0e32\\u0e23 \\u0e01\\u0e23\\u0e14\\u0e44\\u0e2b\\u0e25\\u0e22\\u0e49\\u0e2d\\u0e19 \\u0e08\\u0e38\\u0e01\\u0e40\\u0e2a\\u0e35\\u0e22\\u0e14 \\u0e41\\u0e19\\u0e48\\u0e19 \\u0e17\\u0e32\\u0e19\\u0e22\\u0e32 \\u0e01\\u0e23\\u0e14\\u0e44\\u0e2b\\u0e25\\u0e22\\u0e49\\u0e2d\\u0e19 \\u0e1b\\u0e23\\u0e30\\u0e21\\u0e32\\u0e13 1\\u0e1b\\u0e35 \\u0e08\\u0e19 \\u0e40\\u0e2a\\u0e49\\u0e19\\u0e40\\u0e2a\\u0e35\\u0e22\\u0e07\\u0e2d\\u0e31\\u0e01\\u0e40\\u0e2a\\u0e1a\\u0e04\\u0e30 \\u0e1e\\u0e39\\u0e14 \\u0e2d\\u0e2d\\u0e01\\u0e21\\u0e32 \\u0e40\\u0e2a\\u0e35\\u0e22\\u0e07\\u0e41\\u0e2b\\u0e1a \\u0e2b\\u0e32\\u0e2b\\u0e21\\u0e2d \\u0e15\\u0e23\\u0e27\\u0e08 \\u0e1e\\u0e34\\u0e40\\u0e28\\u0e29 \\u0e2b\\u0e21\\u0e2d\\u0e1a\\u0e2d\\u0e01\\u0e01\\u0e27\\u0e48\\u0e32 \\u0e40\\u0e1b\\u0e47\\u0e19\\u0e01\\u0e25\\u0e48\\u0e2d\\u0e07\\u0e40\\u0e2a\\u0e35\\u0e22\\u0e07\\u0e2d\\u0e31\\u0e21\\u0e1e\\u0e32\\u0e12 \\u0e17\\u0e33\\u0e01\\u0e32\\u0e23 \\u0e09\\u0e35\\u0e14\\u0e2a\\u0e40\\u0e15\\u0e21\\u0e40\\u0e0b\\u0e25 \\u0e40\\u0e2a\\u0e49\\u0e19\\u0e40\\u0e2a\\u0e35\\u0e22\\u0e07 \\u0e15\\u0e23\\u0e27\\u0e08\\u0e40\\u0e08\\u0e2d\\u0e01\\u0e49\\u0e2d\\u0e19\\u0e40\\u0e19\\u0e37\\u0e49\\u0e2d \\u0e02\\u0e19\\u0e32\\u0e14 1.5 \\u0e40\\u0e0b\\u0e47\\u0e19\\u0e17\\u0e35\\u0e48\\u0e44\\u0e17\\u0e23\\u0e23\\u0e2d\\u0e22\\u0e14\\u0e4c \\u0e1c\\u0e48\\u0e32\\u0e15\\u0e31\\u0e14 \\u0e15\\u0e23\\u0e27\\u0e08\\u0e0a\\u0e34\\u0e49\\u0e19\\u0e40\\u0e19\\u0e37\\u0e49\\u0e2d \\u0e01\\u0e47\\u0e44\\u0e21\\u0e48 \\u0e1e\\u0e1a \\u0e21\\u0e30\\u0e40\\u0e23\\u0e47\\u0e07 \\u0e08\\u0e19\\u0e2d\\u0e32\\u0e01\\u0e32\\u0e23\\u0e41\\u0e19\\u0e48\\u0e19 \\u0e40\\u0e1e\\u0e34\\u0e48\\u0e21 \\u0e02\\u0e36\\u0e49\\u0e19 \\u0e40\\u0e2a\\u0e35\\u0e22\\u0e01\\u0e32\\u0e23\\u0e17\\u0e23\\u0e07\\u0e15\\u0e31\\u0e27 \\u0e15\\u0e31\\u0e27\\u0e41\\u0e02\\u0e47\\u0e07\\u0e46 \\u0e44\\u0e1b \\u0e15\\u0e23\\u0e27\\u0e08 \\u0e23\\u0e1e \\u0e2d\\u0e35\\u0e01\\u0e23\\u0e2d\\u0e1a \\u0e1e\\u0e1a\\u0e27\\u0e48\\u0e32 \\u0e40\\u0e1b\\u0e47\\u0e19\\u0e21\\u0e30\\u0e40\\u0e23\\u0e47\\u0e07\\u0e1b\\u0e2d\\u0e14 \\u0e23\\u0e30\\u0e22\\u0e30\\u0e41\\u0e1e\\u0e23\\u0e48\\u0e01\\u0e23\\u0e30\\u0e08\\u0e32\\u0e22 \\u0e44\\u0e1b\\u0e17\\u0e38\\u0e01\\u0e2a\\u0e48\\u0e27\\u0e19 \\u0e42\\u0e14\\u0e22\\u0e40\\u0e09\\u0e1e\\u0e32\\u0e30\\u0e2a\\u0e21\\u0e2d\\u0e07 \\u0e04\\u0e48\\u0e30 \\u0e41\\u0e15\\u0e48 \\u0e15\\u0e2d\\u0e19\\u0e19\\u0e35\\u0e49 \\u0e23\\u0e31\\u0e01\\u0e29\\u0e32\\u0e21\\u0e32 8 \\u0e40\\u0e14\\u0e37\\u0e2d\\u0e19\\u0e41\\u0e25\\u0e49\\u0e27\\u0e04\\u0e48\\u0e30\",\n          \"\\u0e21\\u0e30\\u0e40\\u0e23\\u0e47\\u0e07\\u0e40\\u0e15\\u0e49\\u0e32\\u0e19\\u0e21\\u0e23\\u0e30\\u0e22\\u0e302 \\u0e41\\u0e25\\u0e30\\u0e25\\u0e32\\u0e21\\u0e21\\u0e32\\u0e15\\u0e48\\u0e2d\\u0e21\\u0e19\\u0e49\\u0e33\\u0e40\\u0e2b\\u0e25\\u0e37\\u0e2d\\u0e07 \\u0e01\\u0e33\\u0e25\\u0e31\\u0e07\\u0e23\\u0e2d\\u0e43\\u0e2b\\u0e49\\u0e04\\u0e35\\u0e42\\u0e21\\u0e40\\u0e02\\u0e47\\u0e21\\u0e2a\\u0e38\\u0e14\\u0e17\\u0e49\\u0e32\\u0e22\\u0e2a\\u0e34\\u0e49\\u0e19\\u0e40\\u0e14\\u0e37\\u0e2d\\u0e19\\u0e19\\u0e35\\u0e49 //\\u0e40\\u0e23\\u0e34\\u0e48\\u0e21\\u0e04\\u0e25\\u0e33\\u0e40\\u0e08\\u0e2d\\u0e01\\u0e49\\u0e2d\\u0e19\\u0e41\\u0e1a\\u0e1a\\u0e1c\\u0e25\\u0e38\\u0e1a\\u0e46\\u0e42\\u0e1c\\u0e25\\u0e48\\u0e46\\u0e19\\u0e32\\u0e19\\u0e41\\u0e25\\u0e49\\u0e27\\u0e41\\u0e15\\u0e48\\u0e04\\u0e34\\u0e14\\u0e27\\u0e48\\u0e32\\u0e40\\u0e1e\\u0e23\\u0e32\\u0e30 \\u0e1b\\u0e08\\u0e14 \\u0e43\\u0e01\\u0e25\\u0e49\\u0e21\\u0e32 \\u0e08\\u0e19\\u0e01\\u0e49\\u0e2d\\u0e19\\u0e40\\u0e23\\u0e34\\u0e48\\u0e21\\u0e0a\\u0e31\\u0e14\\u0e44\\u0e21\\u0e48\\u0e15\\u0e49\\u0e2d\\u0e07\\u0e43\\u0e01\\u0e25\\u0e49\\u0e27\\u0e31\\u0e19\\u0e19\\u0e31\\u0e49\\u0e19\\u0e02\\u0e2d\\u0e07\\u0e40\\u0e14\\u0e37\\u0e2d\\u0e19\\u0e01\\u0e47\\u0e02\\u0e36\\u0e49\\u0e19 \\u0e41\\u0e25\\u0e30\\u0e40\\u0e23\\u0e34\\u0e48\\u0e21\\u0e40\\u0e08\\u0e47\\u0e1a\\u0e01\\u0e49\\u0e2d\\u0e19\\u0e17\\u0e35\\u0e48\\u0e2b\\u0e19\\u0e49\\u0e32\\u0e2d\\u0e01 \\u0e2a\\u0e48\\u0e27\\u0e19\\u0e15\\u0e31\\u0e27\\u0e40\\u0e1b\\u0e47\\u0e19\\u0e04\\u0e19\\u0e2d\\u0e2d\\u0e01\\u0e01\\u0e33\\u0e25\\u0e31\\u0e07\\u0e01\\u0e32\\u0e22\\u0e41\\u0e25\\u0e30\\u0e40\\u0e25\\u0e48\\u0e19\\u0e40\\u0e27\\u0e17\\u0e15\\u0e25\\u0e2d\\u0e14 \\u0e41\\u0e25\\u0e30\\u0e01\\u0e34\\u0e19\\u0e04\\u0e25\\u0e35\\u0e19 \\u0e44\\u0e21\\u0e48\\u0e21\\u0e35\\u0e1e\\u0e31\\u0e19\\u0e18\\u0e38\\u0e4c\\u0e01\\u0e23\\u0e23\\u0e21\\u0e21\\u0e30\\u0e40\\u0e23\\u0e47\\u0e07\\u0e40\\u0e15\\u0e49\\u0e32\\u0e19\\u0e21 \\u0e15\\u0e2d\\u0e19\\u0e44\\u0e1b\\u0e2b\\u0e32\\u0e2b\\u0e21\\u0e2d \\u0e17\\u0e35\\u0e48\\u0e04\\u0e25\\u0e34\\u0e19\\u0e34\\u0e04\\u0e2b\\u0e21\\u0e2d\\u0e22\\u0e31\\u0e07\\u0e04\\u0e34\\u0e14\\u0e27\\u0e48\\u0e32\\u0e2d\\u0e32\\u0e08\\u0e08\\u0e30\\u0e40\\u0e1b\\u0e47\\u0e19\\u0e2b\\u0e34\\u0e19\\u0e1b\\u0e39\\u0e19 \\u0e41\\u0e15\\u0e48\\u0e41\\u0e19\\u0e30\\u0e19\\u0e33\\u0e43\\u0e2b\\u0e49\\u0e44\\u0e1b mammogram \\u0e17\\u0e35\\u0e48\\u0e23\\u0e1e \\u0e43\\u0e2b\\u0e49\\u0e40\\u0e25\\u0e37\\u0e2d\\u0e01 \\u0e23\\u0e1e \\u0e17\\u0e35\\u0e48\\u0e21\\u0e35 \\u0e2d\\u0e1b\\u0e01 \\u0e04\\u0e23\\u0e1a\\u0e08\\u0e30\\u0e44\\u0e14\\u0e49\\u0e23\\u0e31\\u0e01\\u0e29\\u0e32\\u0e15\\u0e48\\u0e2d\\u0e40\\u0e19\\u0e37\\u0e48\\u0e2d\\u0e07\\u0e44\\u0e1b\\u0e40\\u0e25\\u0e22 \\u0e14\\u0e35\\u0e17\\u0e35\\u0e48 \\u0e23\\u0e1e \\u0e2a\\u0e34\\u0e17\\u0e18\\u0e34\\u0e4c30\\u0e1a\\u0e32\\u0e17 \\u0e40\\u0e1b\\u0e47\\u0e19 \\u0e23\\u0e1e \\u0e28\\u0e39\\u0e19\\u0e22\\u0e4c\\u0e2d\\u0e22\\u0e39\\u0e48\\u0e41\\u0e25\\u0e49\\u0e27 \\u0e40\\u0e04\\u0e23\\u0e37\\u0e48\\u0e2d\\u0e07\\u0e21\\u0e37\\u0e2d\\u0e04\\u0e23\\u0e1a \\u0e40\\u0e25\\u0e22\\u0e40\\u0e25\\u0e37\\u0e2d\\u0e01\\u0e44\\u0e1b\\u0e23\\u0e31\\u0e01\\u0e29\\u0e32\\u0e15\\u0e32\\u0e21\\u0e2a\\u0e34\\u0e17\\u0e18\\u0e34\\u0e4c \\u0e1c\\u0e25 MM \\u0e0a\\u0e34\\u0e49\\u0e19\\u0e40\\u0e19\\u0e37\\u0e49\\u0e2d\\u0e2b\\u0e19\\u0e49\\u0e32\\u0e15\\u0e32\\u0e44\\u0e21\\u0e48\\u0e2a\\u0e27\\u0e22\\u0e07\\u0e32\\u0e21 \\u0e2b\\u0e21\\u0e2d\\u0e2a\\u0e48\\u0e07\\u0e15\\u0e23\\u0e27\\u0e08\\u0e0a\\u0e34\\u0e49\\u0e19\\u0e40\\u0e19\\u0e37\\u0e49\\u0e2d\\u0e1e\\u0e1a\\u0e27\\u0e48\\u0e32\\u0e40\\u0e1b\\u0e47\\u0e19\\u0e40\\u0e19\\u0e37\\u0e49\\u0e2d\\u0e40\\u0e01\\u0e40\\u0e23\\u0e08\\u0e23\\u0e34\\u0e07 \\u0e40\\u0e23\\u0e34\\u0e48\\u0e21\\u0e23\\u0e31\\u0e01\\u0e29\\u0e32\\u0e15\\u0e32\\u0e21\\u0e02\\u0e31\\u0e49\\u0e19\\u0e15\\u0e2d\\u0e19 \\u0e44\\u0e21\\u0e48\\u0e40\\u0e04\\u0e22\\u0e40\\u0e28\\u0e23\\u0e49\\u0e32\\u0e2b\\u0e23\\u0e37\\u0e2d\\u0e40\\u0e2a\\u0e35\\u0e22\\u0e43\\u0e08 \\u0e40\\u0e23\\u0e32\\u0e2d\\u0e32\\u0e22\\u0e38\\u0e22\\u0e31\\u0e07\\u0e19\\u0e49\\u0e2d\\u0e22 \\u0e23\\u0e48\\u0e32\\u0e07\\u0e01\\u0e32\\u0e22\\u0e41\\u0e02\\u0e47\\u0e07\\u0e41\\u0e23\\u0e07 \\u0e2b\\u0e32\\u0e22\\u0e41\\u0e19\\u0e48\\u0e19\\u0e2d\\u0e19 \\u0e21\\u0e31\\u0e19\\u0e01\\u0e47\\u0e41\\u0e04\\u0e48\\u0e0a\\u0e48\\u0e27\\u0e07\\u0e43\\u0e0a\\u0e49\\u0e01\\u0e23\\u0e23\\u0e21\",\n          \"\\u0e41\\u0e21\\u0e48\\u0e15\\u0e23\\u0e27\\u0e08\\u0e1e\\u0e1a\\u0e40\\u0e1b\\u0e47\\u0e19\\u0e21\\u0e30\\u0e40\\u0e23\\u0e47\\u0e07\\u0e25\\u0e33\\u0e44\\u0e2a\\u0e49\\u0e43\\u0e2b\\u0e0d\\u0e48 \\u0e23\\u0e30\\u0e22\\u0e30\\u0e41\\u0e1e\\u0e23\\u0e48\\u0e01\\u0e23\\u0e30\\u0e08\\u0e32\\u0e22 \\u0e01\\u0e48\\u0e2d\\u0e19\\u0e2b\\u0e19\\u0e49\\u0e32\\u0e19\\u0e31\\u0e49\\u0e19 1 \\u0e1b\\u0e35 \\u0e41\\u0e21\\u0e48\\u0e21\\u0e35\\u0e2d\\u0e32\\u0e01\\u0e32\\u0e23\\u0e1b\\u0e27\\u0e14\\u0e17\\u0e49\\u0e2d\\u0e07\\u0e23\\u0e38\\u0e19\\u0e41\\u0e23\\u0e07 \\u0e44\\u0e1b\\u0e2b\\u0e32\\u0e2b\\u0e21\\u0e2d\\u0e17\\u0e35\\u0e48\\u0e42\\u0e23\\u0e07\\u0e1e\\u0e22\\u0e32\\u0e1a\\u0e32\\u0e25\\u0e43\\u0e01\\u0e25\\u0e49\\u0e1a\\u0e49\\u0e32\\u0e19 \\u0e2b\\u0e21\\u0e2d\\u0e1a\\u0e2d\\u0e01\\u0e27\\u0e48\\u0e32\\u0e41\\u0e21\\u0e48\\u0e40\\u0e1b\\u0e47\\u0e19\\u0e25\\u0e33\\u0e44\\u0e2a\\u0e49\\u0e2d\\u0e31\\u0e01\\u0e40\\u0e2a\\u0e1a \\u0e01\\u0e47\\u0e23\\u0e31\\u0e01\\u0e29\\u0e32\\u0e08\\u0e19\\u0e14\\u0e35\\u0e02\\u0e36\\u0e49\\u0e19 \\u0e01\\u0e25\\u0e31\\u0e1a\\u0e1a\\u0e49\\u0e32\\u0e19\\u0e21\\u0e32\\u0e43\\u0e0a\\u0e49\\u0e0a\\u0e35\\u0e27\\u0e34\\u0e15\\u0e1b\\u0e01\\u0e15\\u0e34 \\u0e08\\u0e19 1 \\u0e1b\\u0e35\\u0e15\\u0e48\\u0e2d\\u0e21\\u0e32 \\u0e41\\u0e21\\u0e48\\u0e21\\u0e35\\u0e2d\\u0e32\\u0e01\\u0e32\\u0e23\\u0e17\\u0e49\\u0e2d\\u0e07\\u0e1c\\u0e39\\u0e01 \\u0e41\\u0e19\\u0e48\\u0e19\\u0e17\\u0e49\\u0e2d\\u0e07\\u0e40\\u0e1b\\u0e47\\u0e19\\u0e1b\\u0e23\\u0e30\\u0e08\\u0e33 \\u0e41\\u0e25\\u0e30\\u0e2a\\u0e38\\u0e14\\u0e17\\u0e49\\u0e32\\u0e22\\u0e17\\u0e35\\u0e48\\u0e44\\u0e1b\\u0e1e\\u0e1a\\u0e2b\\u0e21\\u0e2d\\u0e40\\u0e1e\\u0e23\\u0e32\\u0e30\\u0e1b\\u0e27\\u0e14\\u0e17\\u0e49\\u0e2d\\u0e07\\u0e23\\u0e38\\u0e19\\u0e41\\u0e23\\u0e07 \\u0e08\\u0e19\\u0e1e\\u0e1a\\u0e27\\u0e48\\u0e32\\u0e40\\u0e1b\\u0e47\\u0e19\\u0e21\\u0e30\\u0e40\\u0e23\\u0e47\\u0e07\\u0e25\\u0e33\\u0e44\\u0e2a\\u0e49\\u0e04\\u0e48\\u0e30\"\n        ],\n        \"semantic_type\": \"\",\n        \"description\": \"\"\n      }\n    }\n  ]\n}"
            }
          },
          "metadata": {},
          "execution_count": 252
        }
      ]
    },
    {
      "cell_type": "markdown",
      "source": [
        "#test"
      ],
      "metadata": {
        "id": "FGM1FO9uh9iu"
      }
    },
    {
      "cell_type": "code",
      "source": [
        "text=x['คำพูดโรค'][5]"
      ],
      "metadata": {
        "id": "nuiRPFKePAMN"
      },
      "execution_count": 315,
      "outputs": []
    },
    {
      "cell_type": "code",
      "source": [
        "text"
      ],
      "metadata": {
        "colab": {
          "base_uri": "https://localhost:8080/",
          "height": 36
        },
        "id": "256fHnoQP-JX",
        "outputId": "c4055225-6852-4ba6-9e4c-fac33e89ef54"
      },
      "execution_count": 316,
      "outputs": [
        {
          "output_type": "execute_result",
          "data": {
            "text/plain": [
              "'มีอาการตกเลือดจนซี้ดเซียว ไปตรวจภายในพบว่าเป็นมะเร็งเยื่อบุโพรงมดลูก ตอนนี้ผ่าตัดเรียบร้อยแล้ว คีโมถึงเข้มที่5 เหลืออีก1เข้มจบคีโม ต้องฉายเเสงต่ออีก25ครั้ง'"
            ],
            "application/vnd.google.colaboratory.intrinsic+json": {
              "type": "string"
            }
          },
          "metadata": {},
          "execution_count": 316
        }
      ]
    },
    {
      "cell_type": "code",
      "source": [
        "words = set(thai_words())\n",
        "name =['กระเพาะปัสสวะ','กระเพาะปัสสาวะ','เยื่อบุโพรงมดลูก','ปากมดลูก','เม็ดเลือดขาว','กระเพาะอาหาร','กระเพราะอาหาร']\n",
        "for i in name:\n",
        "  words.add(i)\n",
        "custom_tokenizer = Tokenizer(words)\n",
        "cheat = custom_tokenizer.word_tokenize(normalize(text))"
      ],
      "metadata": {
        "id": "9aI5KerrQKdD"
      },
      "execution_count": 317,
      "outputs": []
    },
    {
      "cell_type": "code",
      "source": [
        "L=[]\n",
        "for i in range(len(cheat)):\n",
        "  if cheat[i] == \"มะเร็ง\":\n",
        "    L.append(cheat[i]+cheat[i+1])\n",
        "unique_list = list(OrderedDict.fromkeys(L)) # ลบคำซ้ำ"
      ],
      "metadata": {
        "id": "Mq7PheNMYDyB"
      },
      "execution_count": 318,
      "outputs": []
    },
    {
      "cell_type": "code",
      "source": [
        "unique_list"
      ],
      "metadata": {
        "colab": {
          "base_uri": "https://localhost:8080/"
        },
        "id": "KkqfjTWJaCJ6",
        "outputId": "c50f6e6d-7d40-4ca9-9799-69aac5ecacd4"
      },
      "execution_count": 319,
      "outputs": [
        {
          "output_type": "execute_result",
          "data": {
            "text/plain": [
              "['มะเร็งเยื่อบุโพรงมดลูก']"
            ]
          },
          "metadata": {},
          "execution_count": 319
        }
      ]
    },
    {
      "cell_type": "code",
      "source": [
        "name_ceacar = ['มะเร็งกระเพาะปัสสวะ','มะเร็งเยื่อบุโพรงมดลูก','มะเร็งปากมดลูก','มะเร็งเม็ดเลือดขาว','มะเร็งตับ','มะเร็งตับอ่อน','มะเร็งต่อมลูกหมาก','มะเร็งกระเพาะปัสสาวะ','มะเร็งกระเพาะอาหาร'\n",
        ",'มะเร็งหลอดอาหาร','มะเร็งเต้านม','มะเร็งปากมดลูก','มะเร็งปอด','มะเร็งลำไส้ใหญ่','มะเร็งรังไข่','มะเร็งเม็ดเลือดขาว','มะเร็งช่องปาก','มะเร็งต่อมไทรอยด์','มะเร็งต่อมน้ำเหลือง','มะเร็งสมอง','มะเร็งผิวหนัง']"
      ],
      "metadata": {
        "id": "GmbNUbGde1U6"
      },
      "execution_count": 320,
      "outputs": []
    },
    {
      "cell_type": "code",
      "source": [
        "kok = []\n",
        "for i in range(len(unique_list)):\n",
        "  for j in range(len(name_ceacar)):\n",
        "    if unique_list[i]==name_ceacar[j]:\n",
        "      kok.append(unique_list[i])\n",
        "if kok==[]:\n",
        "  kok.append('ไม่สามารถระบุได้/ไม่มั่นใจว่าเป็น')"
      ],
      "metadata": {
        "id": "J2y3U9wtWtDe"
      },
      "execution_count": 321,
      "outputs": []
    },
    {
      "cell_type": "code",
      "source": [
        "kok"
      ],
      "metadata": {
        "colab": {
          "base_uri": "https://localhost:8080/"
        },
        "id": "P_gElVDEhKsf",
        "outputId": "72ea4c91-1188-47cb-95a9-68299ce6bf93"
      },
      "execution_count": 322,
      "outputs": [
        {
          "output_type": "execute_result",
          "data": {
            "text/plain": [
              "['มะเร็งเยื่อบุโพรงมดลูก']"
            ]
          },
          "metadata": {},
          "execution_count": 322
        }
      ]
    },
    {
      "cell_type": "markdown",
      "source": [
        "start"
      ],
      "metadata": {
        "id": "l-hWcx1ah_Lp"
      }
    },
    {
      "cell_type": "code",
      "source": [
        "name_ceacar = ['มะเร็งกระเพาะปัสสวะ','มะเร็งเยื่อบุโพรงมดลูก','มะเร็งปากมดลูก','มะเร็งเม็ดเลือดขาว','มะเร็งตับ','มะเร็งตับอ่อน','มะเร็งต่อมลูกหมาก','มะเร็งกระเพาะปัสสาวะ','มะเร็งกระเพาะอาหาร'\n",
        ",'มะเร็งหลอดอาหาร','มะเร็งเต้านม','มะเร็งปากมดลูก','มะเร็งปอด','มะเร็งลำไส้ใหญ่','มะเร็งรังไข่','มะเร็งเม็ดเลือดขาว','มะเร็งช่องปาก','มะเร็งต่อมไทรอยด์','มะเร็งต่อมน้ำเหลือง','มะเร็งสมอง','มะเร็งผิวหนัง']"
      ],
      "metadata": {
        "id": "FaFmf0mVilsr"
      },
      "execution_count": 325,
      "outputs": []
    },
    {
      "cell_type": "code",
      "source": [
        "words = set(thai_words())\n",
        "name =['กระเพาะปัสสวะ','กระเพาะปัสสาวะ','เยื่อบุโพรงมดลูก','ปากมดลูก','เม็ดเลือดขาว','กระเพาะอาหาร','กระเพราะอาหาร']\n",
        "for i in name:\n",
        "  words.add(i)"
      ],
      "metadata": {
        "id": "kvTEij1Ti0LQ"
      },
      "execution_count": 326,
      "outputs": []
    },
    {
      "cell_type": "code",
      "source": [
        "new_col = []\n",
        "for i in range(len(x)):\n",
        "  text=x['คำพูดโรค'][i]\n",
        "  custom_tokenizer = Tokenizer(words)\n",
        "  cheat = custom_tokenizer.word_tokenize(normalize(text))\n",
        "  cheat.append('end')\n",
        "  L=[]\n",
        "  for i in range(len(cheat)):\n",
        "    if cheat[i] == \"มะเร็ง\":\n",
        "      L.append(cheat[i]+cheat[i+1])\n",
        "  unique_list = list(OrderedDict.fromkeys(L)) # ลบคำซ้ำ\n",
        "  kok = []\n",
        "  for i in range(len(unique_list)):\n",
        "    for j in range(len(name_ceacar)):\n",
        "      if unique_list[i]==name_ceacar[j]:\n",
        "        kok.append(unique_list[i])\n",
        "  if kok==[]:\n",
        "    kok.append('ไม่สามารถระบุได้/ไม่มั่นใจว่าเป็น')\n",
        "  new_col.append(kok)"
      ],
      "metadata": {
        "id": "wDTb3Z7uiAhH"
      },
      "execution_count": 330,
      "outputs": []
    },
    {
      "cell_type": "code",
      "source": [
        "count(new_col)"
      ],
      "metadata": {
        "colab": {
          "base_uri": "https://localhost:8080/",
          "height": 146
        },
        "id": "GgKbCv8ozwCO",
        "outputId": "a5f47a4a-19ee-41eb-a208-5a881c5ed6e8"
      },
      "execution_count": 334,
      "outputs": [
        {
          "output_type": "error",
          "ename": "NameError",
          "evalue": "name 'count' is not defined",
          "traceback": [
            "\u001b[0;31m---------------------------------------------------------------------------\u001b[0m",
            "\u001b[0;31mNameError\u001b[0m                                 Traceback (most recent call last)",
            "\u001b[0;32m<ipython-input-334-42ef83caa092>\u001b[0m in \u001b[0;36m<cell line: 1>\u001b[0;34m()\u001b[0m\n\u001b[0;32m----> 1\u001b[0;31m \u001b[0mcount\u001b[0m\u001b[0;34m(\u001b[0m\u001b[0mnew_col\u001b[0m\u001b[0;34m)\u001b[0m\u001b[0;34m\u001b[0m\u001b[0;34m\u001b[0m\u001b[0m\n\u001b[0m",
            "\u001b[0;31mNameError\u001b[0m: name 'count' is not defined"
          ]
        }
      ]
    }
  ]
}