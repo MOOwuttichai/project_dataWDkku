{
  "cells": [
    {
      "cell_type": "markdown",
      "metadata": {
        "id": "view-in-github",
        "colab_type": "text"
      },
      "source": [
        "<a href=\"https://colab.research.google.com/github/MOOwuttichai/project_dataWDkku/blob/main/Copy_of_Project1_66.ipynb\" target=\"_parent\"><img src=\"https://colab.research.google.com/assets/colab-badge.svg\" alt=\"Open In Colab\"/></a>"
      ]
    },
    {
      "cell_type": "markdown",
      "id": "e3f0f914",
      "metadata": {
        "id": "e3f0f914"
      },
      "source": [
        "# Text Analytics"
      ]
    },
    {
      "cell_type": "markdown",
      "id": "6f8afa7f",
      "metadata": {
        "id": "6f8afa7f"
      },
      "source": [
        "<img src=\"https://www.datanami.com/wp-content/uploads/2014/06/text-analytics.png\" width=\"300\">"
      ]
    },
    {
      "cell_type": "markdown",
      "id": "7866bdbc",
      "metadata": {
        "id": "7866bdbc"
      },
      "source": [
        "## Due Date: Sunday, October 1, 2023\n",
        "<br>\n",
        "<span style=\"color:red\">NOTE: There are always last minute issues submitting the case studies. DO NOT WAIT UNTIL THE LAST MINUTE!</span>"
      ]
    },
    {
      "cell_type": "markdown",
      "id": "830d61bd",
      "metadata": {
        "id": "830d61bd"
      },
      "source": [
        "## List team members:"
      ]
    },
    {
      "cell_type": "markdown",
      "id": "f280656e",
      "metadata": {
        "id": "f280656e"
      },
      "source": [
        "1. นายวุฒิชัย คำนา 643020521-0 wuttichai.kha@kkumail.com\n",
        "2. <Name> <ID> <Email>\n",
        "3. <Name> <ID> <Email>"
      ]
    },
    {
      "cell_type": "markdown",
      "id": "3306068f",
      "metadata": {
        "id": "3306068f"
      },
      "source": [
        "**NOTE1**: Please don't forget to save the notebook frequently when working in IPython Notebook, otherwise the changes you made can be lost\n",
        "\n",
        "**NOTE2**: Create a slide presentation once finished, convert to pdf format, and turn in by one group member only\n",
        "<br>A list of documents to turn in: 1) Jupyter notebook containing results and 2) A set of slides in pdf format"
      ]
    },
    {
      "cell_type": "raw",
      "id": "7d719e86",
      "metadata": {
        "id": "7d719e86"
      },
      "source": [
        "!pip3 install wordcloud"
      ]
    },
    {
      "cell_type": "code",
      "execution_count": 1,
      "id": "1e236d1b",
      "metadata": {
        "id": "1e236d1b",
        "outputId": "cf47a923-eaf7-4933-ff75-f0e74ca38d92",
        "colab": {
          "base_uri": "https://localhost:8080/"
        }
      },
      "outputs": [
        {
          "output_type": "stream",
          "name": "stdout",
          "text": [
            "Mounted at /content/drive\n"
          ]
        }
      ],
      "source": [
        "# Load these libraries\n",
        "import json\n",
        "import pprint\n",
        "import pandas as pd\n",
        "from io import StringIO # using StringIO to prevent ValueError\n",
        "from os import path\n",
        "from PIL import Image\n",
        "from wordcloud import WordCloud, STOPWORDS, ImageColorGenerator\n",
        "import urllib.request\n",
        "\n",
        "import matplotlib.pyplot as plt\n",
        "%matplotlib inline\n",
        "from google.colab import drive\n",
        "drive.mount('/content/drive')"
      ]
    },
    {
      "cell_type": "markdown",
      "id": "f6b4adb1",
      "metadata": {
        "id": "f6b4adb1"
      },
      "source": [
        "## Problem 1: Working with Twitter Data and JSON file"
      ]
    },
    {
      "cell_type": "markdown",
      "id": "b90b2963",
      "metadata": {
        "id": "b90b2963"
      },
      "source": [
        "We are working with a Twitter dataset in JSON format from `thailand_tweets.txt`.<br>\n",
        "The tweets were scraped using \"Thailand\" keyword on August 31, 2022.<br>\n",
        "We are going to examine the dataset and retrieve information from the JSON file.\n",
        "Most Twitter datasets provide only Tweet ID where we can retrieve tweets from tweet ID as follow.\n",
        "```\n",
        "twitter.com/anyuser/status/<tweet_id>\n",
        "```"
      ]
    },
    {
      "cell_type": "markdown",
      "id": "9c5915cc",
      "metadata": {
        "id": "9c5915cc"
      },
      "source": [
        "#### Read JSON file"
      ]
    },
    {
      "cell_type": "code",
      "execution_count": 2,
      "id": "a6b52d1f",
      "metadata": {
        "scrolled": false,
        "id": "a6b52d1f"
      },
      "outputs": [],
      "source": [
        "# read the file\n",
        "file = open('/content/drive/MyDrive/stats work/thailand_tweets.txt','r') # rename\n",
        "thai = file.read()\n",
        "d = json.loads(thai)"
      ]
    },
    {
      "cell_type": "code",
      "execution_count": 3,
      "id": "cca51f21",
      "metadata": {
        "id": "cca51f21",
        "outputId": "af202796-a25a-41ee-cc5b-c3474c7dd6ed",
        "colab": {
          "base_uri": "https://localhost:8080/",
          "height": 145
        }
      },
      "outputs": [
        {
          "output_type": "stream",
          "name": "stdout",
          "text": [
            "<class 'str'>\n"
          ]
        },
        {
          "output_type": "execute_result",
          "data": {
            "text/plain": [
              "'{\"1564764893038882816\": {\"tweet_id\": \"1564764893038882816\", \"username\": \"matthunter\", \"name\": \"MATT HUNT\\\\u039eR\", \"profile_picture\": \"https://twitter.com/matthunter/photo\", \"replies\": 2, \"retweets\": 1, \"likes\": 7, \"is_retweet\": false, \"posted_time\": \"2022-08-30T23:59:57+00:00\", \"content\": \"Thanks for asking! Yes, we will support shipping to most countries, including Japan and Thailand. \", \"hashtags\": [], \"mentions\": [], \"images\": [], \"videos\": [], \"tweet_url\": \"https://twitter.com/matthunter/status/1564764893038882816\", \"link\": \"\"}, \"1564764866598080513\": {\"tweet_id\": \"1564764866598080513\", \"username\": \"DavSmithVP\", \"name\": \"DavSmith / Virtual Photography\", \"profile_picture\": \"https://twitter.com/DavSmithVP/photo\", \"replies\": 0, \"retweets\": 0, \"likes\": 2, \"is_retweet\": false, \"posted_time\": \"2022-08-30T23:59:50+00:00\", \"content\": \"Tomb Raider Underworld | Thailand \\\\n#VirtualPhotography \\\\n@tombraider\\\\n @crystaldynamics\", \"hashtags\": [\"VirtualPhotography\"], \"mentions\": [\"tombraider\", \"crystaldynamics\"], \"images\": [\"https://pbs.twimg.com/media/FbcpF-FXkAIlqTS?format=jpg&name=small\"], \"videos\": [], \"tweet_url\": \"https://twitter.com/DavSmithVP/status/1564764866598080513\", \"link\": \"\"}, \"1564764845685280772\": {\"tweet_id\": \"1564764845685280772\", \"username\": \"DailyPattaya\", \"name\": \"The Pattaya Daily\", \"profile_picture\": \"https://twitter.com/DailyPattaya/photo\", \"replies\": 0, \"retweets\": 0, \"likes\": 0, \"is_retweet\": false, \"posted_time\": \"2022-08-30T23:59:45+00:00\", \"content\": \"The latest The Pattaya Daily! http://thepattayadaily.com Thanks to \\\\n@PopeKael\\\\n @ASEANNOWTH\\\\n #thailand #pattaya\", \"hashtags\": [\"thailand\", \"pattaya\"], \"mentions\": [\"PopeKael\", \"ASEANNOWTH\"], \"images\": [], \"videos\": [], \"tweet_url\": \"https://twitter.com/DailyPattaya/status/1564764845685280772\", \"link\": \"\"}, \"1564764710804897792\": {\"tweet_id\": \"1564764710804897792\", \"username\": \"Bryan62766077\", \"name\": \"Bryan\", \"profile_picture\": \"https://twitter.com/Bryan62766077/photo\", \"replies\": 1, \"retweets\": 0, \"likes\": 1, \"is_retweet\": false, \"posted_time\": \"2022-08-30T23:59:13+00:00\", \"content\": \"You can live some places for next to nothing, believe it or not. I pay $300 a month for a really nice apartment in Thailand. All utilities included. No deposit. Close to the beach. Live music clubs everywhere. Meals are about $2\", \"hashtags\": [], \"mentions\": [], \"images\": [], \"videos\": [], \"tweet_url\": \"https://twitter.com/Bryan62766077/status/1564764710804897792\", \"link\": \"\"}, \"1564764468277612549\": {\"tweet_id\": \"1564764468277612549\", \"username\": \"Megan_and_Grrr\", \"name\": \"Megan\", \"profile_picture\": \"https://twitter.com/Megan_and_Grrr/photo\", \"replies\": 0, \"retweets\": 0, \"likes\": 0, \"is_retweet\": false, \"posted_time\": \"2022-08-30T23:58:15+00:00\", \"content\": \"ALIEN HOUSE is a story of love, hope and alien intervention set in Wales, Thailand and Inner Space. It\\'s a #fantasy story about #extraterrestrial contact and the conflict between a man and his inner voice or alter ego. William is not sure if he\\'s going mad https://smarturl.it/alien-house-eng?IQid=jbmegan\\\\u2026\", \"hashtags\": [\"fantasy\", \"extraterrestrial\"], \"mentions\": [], \"images\": [\"https://pbs.twimg.com/media/Fbco_bSXEAMcDOZ?format=jpg&name=small\"], \"videos\": [], \"tweet_url\": \"https://twitter.com/Megan_and_Grrr/status/1564764468277612549\", \"link\": \"\"}, \"1564764445825458181\": {\"tweet_id\": \"1564764445825458181\", \"username\": \"OhmPawatInter\", \"name\": \"OhmPawat International\", \"profile_picture\": \"https://twitter.com/OhmPawatInter/photo\", \"replies\": 0, \"retweets\": 99, \"likes\": 143, \"is_retweet\": false, \"posted_time\": \"2022-08-30T23:58:10+00:00\", \"content\": \"Trend twitter update \\\\n\\\\nTop Twitter influencers in Thailand today \\\\n#4 \\\\n@ohmpawatt\\\\nInfluence Score: 19442\\\\n7 top tweets\\\\n25182 retweets\\\\n\\\\nhttps://etrenders.com/trendsetters/Thailand\\\\u2026\\\\n#ohmpawat #\\\\u0e22\\\\u0e34\\\\u0e49\\\\u0e215\\\\u0e1e\\\\u0e31\\\\u0e19\\\\u0e02\\\\u0e2d\\\\u0e07\\\\u0e42\\\\u0e2d\\\\u0e21\\\\u0e20\\\\u0e27\\\\u0e31\\\\u0e15\", \"hashtags\": [\"4\", \"ohmpawat\", \"\\\\u0e22\"], \"mentions\": [\"ohmpawatt\"], \"images\": [\"https://pbs.twimg.com/media/Fbco99jWIAEd3Oe?format=jpg&name=small\", \"https://pbs.twimg.com/media/Fbco-JwWYAE7oLy?format=jpg&name=small\"], \"videos\": [], \"tweet_url\": \"https://twitter.com/OhmPawatInter/status/1564764445825458181\", \"link\": \"\"}, \"1564764361742110720\": {\"tweet_id\": \"1564764361742110720\", \"username\": \"nato_tonyo11\", \"name\": \"nutri(BUSY SI ENGR.)| SoliD\", \"profile_picture\": \"https://twitter.com/nato_tonyo11/photo\", \"replies\": 0, \"retweets\": 2, \"likes\": 18, \"is_retweet\": false, \"posted_time\": \"2022-08-30T23:57:50+00:00\", \"content\": \"Good morning  world! And goodmorning to you too #DonnyPangilinan, enjoy Thailand babe and please do take selfies out there!, pagod nakong makikitang sapatos pa din nasa igs mo!!\", \"hashtags\": [\"DonnyPangilinan\"], \"mentions\": [], \"images\": [], \"videos\": [], \"tweet_url\": \"https://twitter.com/nato_tonyo11/status/1564764361742110720\", \"link\": \"\"}, \"1564764274098323456\": {\"tweet_id\": \"1564764274098323456\", \"username\": \"ThThitikarn61\", \"name\": \"thiti\", \"profile_picture\": \"https://twitter.com/ThThitikarn61/photo\", \"replies\": 0, \"retweets\": 0, \"likes\": 0, \"is_retweet\": false, \"posted_time\": \"2022-08-30T23:57:29+00:00\", \"content\": \"Listening to #faraway the title track of #theotherside album by #MarkTuan \\\\n@marktuan\\\\n while traveling to Thailand\", \"hashtags\": [\"faraway\", \"theotherside\", \"MarkTuan\"], \"mentions\": [\"marktuan\"], \"images\": [], \"videos\": [], \"tweet_url\": \"https://twitter.com/ThThitikarn61/status/1564764274098323456\", \"link\": \"\"}, \"1564764028014313472\": {\"tweet_id\": \"1564764028014313472\", \"username\": \"Livetradingnews\", \"name\": \"Knightly News\", \"profile_picture\": \"https://twitter.com/Livetradingnews/photo\", \"replies\": 0, \"retweets\": 2, \"likes\": 3, \"is_retweet\": false, \"posted_time\": \"2022-08-30T23:56:30+00:00\", \"content\": \"With the recent news of the SCB X-Bitkub deal falling apart and the Zipmex incident, investors in Thailand\\'s digital currency market are facing a negative outlook\", \"hashtags\": [], \"mentions\": [], \"images\": [], \"videos\": [], \"tweet_url\": \"https://twitter.com/Livetradingnews/status/1564764028014313472\", \"link\": \"\"}, \"1564763907700531202\": {\"tweet_id\": \"1564763907700531202\", \"username\": \"DiscoverSoc\", \"name\": \"Discover Society\", \"profile_picture\": \"https://twitter.com/DiscoverSoc/photo\", \"replies\": 0, \"retweets\": 1, \"likes\": 0, \"is_retweet\": false, \"posted_time\": \"2022-08-30T23:56:02+00:00\", \"content\": \"#ICYMI  On the Frontline. Crude Power in Thailand\\\\u2019s 2014 Coup: Old Soldiers Almost Die\", \"hashtags\": [\"ICYMI\"], \"mentions\": [], \"images\": [], \"videos\": [], \"tweet_url\": \"https://twitter.com/DiscoverSoc/status/1564763907700531202\", \"link\": \"https://t.co/OYQzv4BSm9\"}, \"1564763775403712513\": {\"tweet_id\": \"1564763775403712513\", \"username\": \"Onside10900651\", \"name\": \"Onside\", \"profile_picture\": \"https://twitter.com/Onside10900651/photo\", \"replies\": 0, \"retweets\": 0, \"likes\": 0, \"is_retweet\": false, \"posted_time\": \"2022-08-30T23:55:30+00:00\", \"content\": \"And I thought Thailand was absolutely democratic?\", \"hashtags\": [], \"mentions\": [], \"images\": [], \"videos\": [], \"tweet_url\": \"https://twitter.com/Onside10900651/status/1564763775403712513\", \"link\": \"\"}, \"1564763746463105026\": {\"tweet_id\": \"1564763746463105026\", \"username\": \"lekwilliams\", \"name\": \"Lek\", \"profile_picture\": \"https://twitter.com/lekwilliams/photo\", \"replies\": 0, \"retweets\": 0, \"likes\": 0, \"is_retweet\": false, \"posted_time\": \"2022-08-30T23:55:23+00:00\", \"content\": \"How far would you go to save the family farm and keep your siblings in school? Read what Lek did in \\'Behind The Smile, the story of Lek, a bar girl in Pattaya\\' by Owen Jones! https://smarturl.it/BTS-boxset?IQid=SJB-lw-thailand\\\\u2026 #pattaya #Thailand Please retweet\", \"hashtags\": [\"pattaya\", \"Thailand\"], \"mentions\": [], \"images\": [\"https://pbs.twimg.com/media/FbcoVHpWIAEh_R0?format=jpg&name=small\"], \"videos\": [], \"tweet_url\": \"https://twitter.com/lekwilliams/status/1564763746463105026\", \"link\": \"\"}, \"1564763729967054848\": {\"tweet_id\": \"1564763729967054848\", \"username\": \"o_rung_o1\", \"name\": \"o_Rung_o\", \"profile_picture\": \"https://twitter.com/o_rung_o1/photo\", \"replies\": 0, \"retweets\": 28, \"likes\": 15, \"is_retweet\": false, \"posted_time\": \"2022-08-30T23:55:19+00:00\", \"content\": \"\\\\u0e27\\\\u0e31\\\\u0e19\\\\u0e19\\\\u0e35\\\\u0e49\\\\u0e27\\\\u0e31\\\\u0e19\\\\u0e2a\\\\u0e38\\\\u0e14\\\\u0e17\\\\u0e49\\\\u0e32\\\\u0e22\\\\u0e02\\\\u0e2d\\\\u0e07\\\\u0e01\\\\u0e32\\\\u0e23\\\\u0e42\\\\u0e2b\\\\u0e27\\\\u0e15 \\\\u0e23\\\\u0e32\\\\u0e07\\\\u0e27\\\\u0e31\\\\u0e25 Outstanding Asian Star Thailand #SDA2022 \\\\u0e43\\\\u0e2b\\\\u0e49\\\\u0e19\\\\u0e49\\\\u0e2d\\\\u0e07\\\\u0e1e\\\\u0e35\\\\u0e1e\\\\u0e35\\\\u0e41\\\\u0e25\\\\u0e49\\\\u0e27\\\\u0e19\\\\u0e30\\\\u0e04\\\\u0e30 \\\\n\\\\u0e21\\\\u0e32\\\\u0e1e\\\\u0e32\\\\u0e19\\\\u0e49\\\\u0e2d\\\\u0e07\\\\u0e44\\\\u0e1b\\\\u0e23\\\\u0e31\\\\u0e1a\\\\u0e16\\\\u0e49\\\\u0e27\\\\u0e22\\\\u0e23\\\\u0e32\\\\u0e07\\\\u0e27\\\\u0e31\\\\u0e252\\\\u0e1b\\\\u0e35\\\\u0e0b\\\\u0e49\\\\u0e2d\\\\u0e19\\\\u0e01\\\\u0e31\\\\u0e19\\\\u0e04\\\\u0e48\\\\u0e30\\\\n#voteforppkritt \\\\n#ppkritt\", \"hashtags\": [\"SDA2022\", \"voteforppkritt\", \"ppkritt\"], \"mentions\": [], \"images\": [\"https://pbs.twimg.com/media/FbcoUQAaQAAIFME?format=jpg&name=small\"], \"videos\": [], \"tweet_url\": \"https://twitter.com/o_rung_o1/status/1564763729967054848\", \"link\": \"\"}, \"1564763679232405504\": {\"tweet_id\": \"1564763679232405504\", \"username\": \"sixhav\", \"name\": \"shi bangs\", \"profile_picture\": \"https://twitter.com/sixhav/photo\", \"replies\": 1, \"retweets\": 0, \"likes\": 1, \"is_retweet\": false, \"posted_time\": \"2022-08-30T23:55:07+00:00\", \"content\": \"right? 2 years ago he is just a simple born and raised guy from thailand who can barely speak thai and likes to do diys and make everything about math i just love how authentic he is hahaha have you seen his 1000 push ups one? \", \"hashtags\": [], \"mentions\": [], \"images\": [], \"videos\": [], \"tweet_url\": \"https://twitter.com/sixhav/status/1564763679232405504\", \"link\": \"\"}, \"1564763673662464003\": {\"tweet_id\": \"1564763673662464003\", \"username\": \"JaeJazee\", \"name\": \"\\\\u24b7\\\\u24c9\\\\u24c8ARMY\\\\ud560\\\\uba38\\\\ub2c8\\\\u1d36\\\\u1d39\\\\u1d36\\\\u1d37\\\\u00b3\\\\u1d36\", \"profile_picture\": \"https://twitter.com/JaeJazee/photo\", \"replies\": 0, \"retweets\": 0, \"likes\": 0, \"is_retweet\": false, \"posted_time\": \"2022-08-30T23:55:06+00:00\", \"content\": \"I knew I heard the beginning speech that Lisa had an Australian accent.  It is not that she is from Australia but Thailand... here is the explanation...\", \"hashtags\": [], \"mentions\": [], \"images\": [\"https://pbs.twimg.com/media/FbcoKGTWAAAA0-D?format=png&name=900x900\"], \"videos\": [], \"tweet_url\": \"https://twitter.com/JaeJazee/status/1564763673662464003\", \"link\": \"\"}, \"1564763553130655744\": {\"tweet_id\": \"1564763553130655744\", \"username\": \"chak4793\", \"name\": \"\\\\u00a2\\\\u043d\\\\u03b1\\\\u043a.\\\\u0454\\\\u0442\\\\u043d\", \"profile_picture\": \"https://twitter.com/chak4793/photo\", \"replies\": 1, \"retweets\": 0, \"likes\": 7, \"is_retweet\": false, \"posted_time\": \"2022-08-30T23:54:37+00:00\", \"content\": \"Can fluf merch send to Asian countries like Japan or Thailand?\", \"hashtags\": [], \"mentions\": [], \"images\": [], \"videos\": [], \"tweet_url\": \"https://twitter.com/chak4793/status/1564763553130655744\", \"link\": \"\"}, \"1564763407818952705\": {\"tweet_id\": \"1564763407818952705\", \"username\": \"SarahJa56317435\", \"name\": \"j\", \"profile_picture\": \"https://twitter.com/SarahJa56317435/photo\", \"replies\": 0, \"retweets\": 0, \"likes\": 0, \"is_retweet\": false, \"posted_time\": \"2022-08-30T23:54:02+00:00\", \"content\": \"= and the French people and also Thailand\\'s people that have not thrown lethal military barracks gas at an \\'Enemy of Thought\\' are the races to not survive a space race Masterclass\", \"hashtags\": [], \"mentions\": [], \"images\": [], \"videos\": [], \"tweet_url\": \"https://twitter.com/SarahJa56317435/status/1564763407818952705\", \"link\": \"\"}, \"1564763389058027521\": {\"tweet_id\": \"1564763389058027521\", \"username\": \"starrykws\", \"name\": \"em \\\\u263e\", \"profile_picture\": \"https://twitter.com/starrykws/photo\", \"replies\": 0, \"retweets\": 0, \"likes\": 0, \"is_retweet\": false, \"posted_time\": \"2022-08-30T23:53:58+00:00\", \"content\": \"woo.ddadda in thailand \", \"hashtags\": [], \"mentions\": [], \"images\": [\"https://pbs.twimg.com/media/FbcoAO_XkAA-Isn?format=jpg&name=360x360\", \"https://pbs.twimg.com/media/FbcoAPDXEAYc26T?format=jpg&name=360x360\"], \"videos\": [], \"tweet_url\": \"https://twitter.com/starrykws/status/1564763389058027521\", \"link\": \"\"}, \"1564763303989366784\": {\"tweet_id\": \"1564763303989366784\", \"username\": \"aisseutea\", \"name\": \"Cynthia Dewi\", \"profile_picture\": \"https://twitter.com/aisseutea/photo\", \"replies\": 1, \"retweets\": 0, \"likes\": 0, \"is_retweet\": false, \"posted_time\": \"2022-08-30T23:53:38+00:00\", \"content\": \"Kalo di thailand bukan dong :)\", \"hashtags\": [], \"mentions\": [], \"images\": [], \"videos\": [], \"tweet_url\": \"https://twitter.com/aisseutea/status/1564763303989366784\", \"link\": \"\"}, \"1564763292354355200\": {\"tweet_id\": \"1564763292354355200\", \"username\": \"LDN327\", \"name\": \"LDN327\", \"profile_picture\": \"https://twitter.com/LDN327/photo\", \"replies\": 1, \"retweets\": 7, \"likes\": 5, \"is_retweet\": false, \"posted_time\": \"2022-08-30T23:53:35+00:00\", \"content\": \"- please engage\\\\n\\\\nELLE Thailand  \\\\n https://instagram.com/p/Ch02SH7hGpq/ \\\\n  https://instagram.com/p/Ch0xESZB1kr/ \\\\n\\\\n#LISA #LALISA #Money\", \"hashtags\": [\"LISA\", \"LALISA\", \"Money\"], \"mentions\": [], \"images\": [], \"videos\": [], \"tweet_url\": \"https://twitter.com/LDN327/status/1564763292354355200\", \"link\": \"https://t.co/6aZ539h9RK\"}, \"1564763185244426240\": {\"tweet_id\": \"1564763185244426240\", \"username\": \"Jay_beebee\", \"name\": \"Jay Bee\", \"profile_picture\": \"https://twitter.com/Jay_beebee/photo\", \"replies\": 1, \"retweets\": 7, \"likes\": 7, \"is_retweet\": true, \"posted_time\": \"2022-08-30T23:53:09+00:00\", \"content\": \"\\\\u0e1e\\\\u0e23\\\\u0e49\\\\u0e2d\\\\u0e21\\\\u0e04\\\\u0e23\\\\u0e31\\\\u0e0a\\\\n\\\\nPlease,come to thailand.\\\\n \\\\n\\\\n#JAYB #\\\\uc81c\\\\uc774\\\\ube44 \\\\n@jaybnow_hr\\\\n#GOT7 #\\\\uac13\\\\uc138\\\\ube10 \\\\n@GOT7\\\\n#CDNZA \\\\n@cdnzarecords\\\\n#Def\", \"hashtags\": [\"JAYB\", \"\\\\uc81c\\\\uc774\\\\ube44\", \"GOT7\", \"\\\\uac13\\\\uc138\\\\ube10\", \"CDNZA\", \"Def\"], \"mentions\": [\"jaybnow_hr\", \"GOT7\", \"cdnzarecords\"], \"images\": [\"https://pbs.twimg.com/media/FbcmB6RUEAA75m6?format=jpg&name=small\"], \"videos\": [], \"tweet_url\": \"https://twitter.com/Jay_beebee/status/1564763185244426240\", \"link\": \"\"}, \"1564763141589897217\": {\"tweet_id\": \"1564763141589897217\", \"username\": \"Iovelydoll\", \"name\": \"\", \"profile_picture\": \"https://twitter.com/Iovelydoll/photo\", \"replies\": 0, \"retweets\": 0, \"likes\": 3, \"is_retweet\": true, \"posted_time\": \"2022-08-30T23:52:59+00:00\", \"content\": \"we need more ten vlogs in thailand...a girl can dream\", \"hashtags\": [], \"mentions\": [], \"images\": [\"https://pbs.twimg.com/media/EDNptiHUEAAqdwm?format=jpg&name=small\"], \"videos\": [], \"tweet_url\": \"https://twitter.com/Iovelydoll/status/1564763141589897217\", \"link\": \"\"}, \"1564763050477244417\": {\"tweet_id\": \"1564763050477244417\", \"username\": \"jaemmrchv\", \"name\": \"wonyoungiii | surprise cutie\", \"profile_picture\": \"https://twitter.com/jaemmrchv/photo\", \"replies\": 0, \"retweets\": 1, \"likes\": 0, \"is_retweet\": false, \"posted_time\": \"2022-08-30T23:52:37+00:00\", \"content\": \"@NaEMwi\\\\n @jaemwinner\\\\n @JAEMIN_THAILAND\", \"hashtags\": [], \"mentions\": [\"NaEMwi\", \"jaemwinner\", \"JAEMIN_THAILAND\"], \"images\": [], \"videos\": [], \"tweet_url\": \"https://twitter.com/jaemmrchv/status/1564763050477244417\", \"link\": \"\"}, \"1564762341324992513\": {\"tweet_id\": \"1564762341324992513\", \"username\": \"Zeepruk_jfc\", \"name\": \"ZeePruk_JapanFC\\\\uff08Rest\\\\uff09\", \"profile_picture\": \"https://twitter.com/Zeepruk_jfc/photo\", \"replies\": 2, \"retweets\": 54, \"likes\": 32, \"is_retweet\": false, \"posted_time\": \"2022-08-30T23:49:48+00:00\", \"content\": \"Can you help me?\\\\n\\\\ntracking number\\\\nFMP200001150XX\\\\n\\\\nDoes anyone know a shipping company in Thailand that handles this number?\\\\nI\\'m in trouble with no reply even if I contact the caller \\\\n\\\\n#Zunshine\", \"hashtags\": [\"Zunshine\"], \"mentions\": [], \"images\": [], \"videos\": [], \"tweet_url\": \"https://twitter.com/Zeepruk_jfc/status/1564762341324992513\", \"link\": \"\"}, \"1564762335192940544\": {\"tweet_id\": \"1564762335192940544\", \"username\": \"NFTLadyEve\", \"name\": \"NFTeVe\", \"profile_picture\": \"https://twitter.com/NFTLadyEve/photo\", \"replies\": 1, \"retweets\": 0, \"likes\": 1, \"is_retweet\": false, \"posted_time\": \"2022-08-30T23:49:47+00:00\", \"content\": \"how about Friday at 11 am? that way it will  be 10pm in Thailand & we can invite that crew.\\\\n@blossom_melonn\", \"hashtags\": [], \"mentions\": [\"blossom_melonn\"], \"images\": [], \"videos\": [], \"tweet_url\": \"https://twitter.com/NFTLadyEve/status/1564762335192940544\", \"link\": \"\"}, \"1564762170277052418\": {\"tweet_id\": \"1564762170277052418\", \"username\": \"AntzAntz1\", \"name\": \"palito..showcase\", \"profile_picture\": \"https://twitter.com/AntzAntz1/photo\", \"replies\": 0, \"retweets\": 0, \"likes\": 0, \"is_retweet\": false, \"posted_time\": \"2022-08-30T23:49:07+00:00\", \"content\": \"\\\\u0e40\\\\u0e1b\\\\u0e4a\\\\u0e01 \\\\u0e1b\\\\u0e32\\\\u0e25\\\\u0e4c\\\\u0e21\\\\u0e21\\\\u0e35\\\\u0e48 | Disney+ Hotstar Thailand https://youtu.be/541HmrdzmHc via \\\\n@YouTube\\\\n  #\\\\u0e40\\\\u0e1b\\\\u0e01\\\\u0e1c\\\\u0e25\\\\u0e34\\\\u0e15\\\\u0e42\\\\u0e0a\\\\u0e04 #PeckPaLitChoke\", \"hashtags\": [\"\\\\u0e40\\\\u0e1b\\\\u0e01\\\\u0e1c\\\\u0e25\", \"PeckPaLitChoke\"], \"mentions\": [\"YouTube\"], \"images\": [], \"videos\": [], \"tweet_url\": \"https://twitter.com/AntzAntz1/status/1564762170277052418\", \"link\": \"\"}, \"1564762027507458049\": {\"tweet_id\": \"1564762027507458049\", \"username\": \"taraxacumyx\", \"name\": \"Dandelion\", \"profile_picture\": \"https://twitter.com/taraxacumyx/photo\", \"replies\": 1, \"retweets\": 0, \"likes\": 0, \"is_retweet\": false, \"posted_time\": \"2022-08-30T23:48:33+00:00\", \"content\": \"@blueeyellowww\\\\n Yuk nabung buat ke Thailand wkwk\", \"hashtags\": [], \"mentions\": [\"blueeyellowww\"], \"images\": [], \"videos\": [], \"tweet_url\": \"https://twitter.com/taraxacumyx/status/1564762027507458049\", \"link\": \"\"}, \"1564761944061382656\": {\"tweet_id\": \"1564761944061382656\", \"username\": \"IrfanHazard10\", \"name\": \"Irfan Rapiansyah\", \"profile_picture\": \"https://twitter.com/IrfanHazard10/photo\", \"replies\": 0, \"retweets\": 0, \"likes\": 0, \"is_retweet\": false, \"posted_time\": \"2022-08-30T23:48:13+00:00\", \"content\": \"Padahal berharap pertama lawan Thailand atau Filipina\", \"hashtags\": [], \"mentions\": [], \"images\": [], \"videos\": [], \"tweet_url\": \"https://twitter.com/IrfanHazard10/status/1564761944061382656\", \"link\": \"\"}, \"1564761905410875392\": {\"tweet_id\": \"1564761905410875392\", \"username\": \"moanfIeur\", \"name\": \"\", \"profile_picture\": \"https://twitter.com/moanfIeur/photo\", \"replies\": 0, \"retweets\": 0, \"likes\": 0, \"is_retweet\": false, \"posted_time\": \"2022-08-30T23:48:04+00:00\", \"content\": \"Tinggal cari duitnya aja ini mah kalo di Thailand bisa pake Qris\", \"hashtags\": [], \"mentions\": [], \"images\": [], \"videos\": [], \"tweet_url\": \"https://twitter.com/moanfIeur/status/1564761905410875392\", \"link\": \"\"}}'"
            ],
            "application/vnd.google.colaboratory.intrinsic+json": {
              "type": "string"
            }
          },
          "metadata": {},
          "execution_count": 3
        }
      ],
      "source": [
        "# inspect the file\n",
        "print(type(d))\n",
        "d\n"
      ]
    },
    {
      "cell_type": "code",
      "source": [
        "#thai_json[\"hashtags\"]"
      ],
      "metadata": {
        "id": "q4gZvghSXYZU"
      },
      "id": "q4gZvghSXYZU",
      "execution_count": 4,
      "outputs": []
    },
    {
      "cell_type": "code",
      "source": [
        "thai_json = json.loads(d)\n",
        "thai_json"
      ],
      "metadata": {
        "id": "BciVbFqIVj3U",
        "colab": {
          "base_uri": "https://localhost:8080/"
        },
        "outputId": "8b955e69-04be-46d1-fe6d-e27ed00e33df"
      },
      "id": "BciVbFqIVj3U",
      "execution_count": 5,
      "outputs": [
        {
          "output_type": "execute_result",
          "data": {
            "text/plain": [
              "{'1564764893038882816': {'tweet_id': '1564764893038882816',\n",
              "  'username': 'matthunter',\n",
              "  'name': 'MATT HUNTΞR',\n",
              "  'profile_picture': 'https://twitter.com/matthunter/photo',\n",
              "  'replies': 2,\n",
              "  'retweets': 1,\n",
              "  'likes': 7,\n",
              "  'is_retweet': False,\n",
              "  'posted_time': '2022-08-30T23:59:57+00:00',\n",
              "  'content': 'Thanks for asking! Yes, we will support shipping to most countries, including Japan and Thailand. ',\n",
              "  'hashtags': [],\n",
              "  'mentions': [],\n",
              "  'images': [],\n",
              "  'videos': [],\n",
              "  'tweet_url': 'https://twitter.com/matthunter/status/1564764893038882816',\n",
              "  'link': ''},\n",
              " '1564764866598080513': {'tweet_id': '1564764866598080513',\n",
              "  'username': 'DavSmithVP',\n",
              "  'name': 'DavSmith / Virtual Photography',\n",
              "  'profile_picture': 'https://twitter.com/DavSmithVP/photo',\n",
              "  'replies': 0,\n",
              "  'retweets': 0,\n",
              "  'likes': 2,\n",
              "  'is_retweet': False,\n",
              "  'posted_time': '2022-08-30T23:59:50+00:00',\n",
              "  'content': 'Tomb Raider Underworld | Thailand \\n#VirtualPhotography \\n@tombraider\\n @crystaldynamics',\n",
              "  'hashtags': ['VirtualPhotography'],\n",
              "  'mentions': ['tombraider', 'crystaldynamics'],\n",
              "  'images': ['https://pbs.twimg.com/media/FbcpF-FXkAIlqTS?format=jpg&name=small'],\n",
              "  'videos': [],\n",
              "  'tweet_url': 'https://twitter.com/DavSmithVP/status/1564764866598080513',\n",
              "  'link': ''},\n",
              " '1564764845685280772': {'tweet_id': '1564764845685280772',\n",
              "  'username': 'DailyPattaya',\n",
              "  'name': 'The Pattaya Daily',\n",
              "  'profile_picture': 'https://twitter.com/DailyPattaya/photo',\n",
              "  'replies': 0,\n",
              "  'retweets': 0,\n",
              "  'likes': 0,\n",
              "  'is_retweet': False,\n",
              "  'posted_time': '2022-08-30T23:59:45+00:00',\n",
              "  'content': 'The latest The Pattaya Daily! http://thepattayadaily.com Thanks to \\n@PopeKael\\n @ASEANNOWTH\\n #thailand #pattaya',\n",
              "  'hashtags': ['thailand', 'pattaya'],\n",
              "  'mentions': ['PopeKael', 'ASEANNOWTH'],\n",
              "  'images': [],\n",
              "  'videos': [],\n",
              "  'tweet_url': 'https://twitter.com/DailyPattaya/status/1564764845685280772',\n",
              "  'link': ''},\n",
              " '1564764710804897792': {'tweet_id': '1564764710804897792',\n",
              "  'username': 'Bryan62766077',\n",
              "  'name': 'Bryan',\n",
              "  'profile_picture': 'https://twitter.com/Bryan62766077/photo',\n",
              "  'replies': 1,\n",
              "  'retweets': 0,\n",
              "  'likes': 1,\n",
              "  'is_retweet': False,\n",
              "  'posted_time': '2022-08-30T23:59:13+00:00',\n",
              "  'content': 'You can live some places for next to nothing, believe it or not. I pay $300 a month for a really nice apartment in Thailand. All utilities included. No deposit. Close to the beach. Live music clubs everywhere. Meals are about $2',\n",
              "  'hashtags': [],\n",
              "  'mentions': [],\n",
              "  'images': [],\n",
              "  'videos': [],\n",
              "  'tweet_url': 'https://twitter.com/Bryan62766077/status/1564764710804897792',\n",
              "  'link': ''},\n",
              " '1564764468277612549': {'tweet_id': '1564764468277612549',\n",
              "  'username': 'Megan_and_Grrr',\n",
              "  'name': 'Megan',\n",
              "  'profile_picture': 'https://twitter.com/Megan_and_Grrr/photo',\n",
              "  'replies': 0,\n",
              "  'retweets': 0,\n",
              "  'likes': 0,\n",
              "  'is_retweet': False,\n",
              "  'posted_time': '2022-08-30T23:58:15+00:00',\n",
              "  'content': \"ALIEN HOUSE is a story of love, hope and alien intervention set in Wales, Thailand and Inner Space. It's a #fantasy story about #extraterrestrial contact and the conflict between a man and his inner voice or alter ego. William is not sure if he's going mad https://smarturl.it/alien-house-eng?IQid=jbmegan…\",\n",
              "  'hashtags': ['fantasy', 'extraterrestrial'],\n",
              "  'mentions': [],\n",
              "  'images': ['https://pbs.twimg.com/media/Fbco_bSXEAMcDOZ?format=jpg&name=small'],\n",
              "  'videos': [],\n",
              "  'tweet_url': 'https://twitter.com/Megan_and_Grrr/status/1564764468277612549',\n",
              "  'link': ''},\n",
              " '1564764445825458181': {'tweet_id': '1564764445825458181',\n",
              "  'username': 'OhmPawatInter',\n",
              "  'name': 'OhmPawat International',\n",
              "  'profile_picture': 'https://twitter.com/OhmPawatInter/photo',\n",
              "  'replies': 0,\n",
              "  'retweets': 99,\n",
              "  'likes': 143,\n",
              "  'is_retweet': False,\n",
              "  'posted_time': '2022-08-30T23:58:10+00:00',\n",
              "  'content': 'Trend twitter update \\n\\nTop Twitter influencers in Thailand today \\n#4 \\n@ohmpawatt\\nInfluence Score: 19442\\n7 top tweets\\n25182 retweets\\n\\nhttps://etrenders.com/trendsetters/Thailand…\\n#ohmpawat #ยิ้ม5พันของโอมภวัต',\n",
              "  'hashtags': ['4', 'ohmpawat', 'ย'],\n",
              "  'mentions': ['ohmpawatt'],\n",
              "  'images': ['https://pbs.twimg.com/media/Fbco99jWIAEd3Oe?format=jpg&name=small',\n",
              "   'https://pbs.twimg.com/media/Fbco-JwWYAE7oLy?format=jpg&name=small'],\n",
              "  'videos': [],\n",
              "  'tweet_url': 'https://twitter.com/OhmPawatInter/status/1564764445825458181',\n",
              "  'link': ''},\n",
              " '1564764361742110720': {'tweet_id': '1564764361742110720',\n",
              "  'username': 'nato_tonyo11',\n",
              "  'name': 'nutri(BUSY SI ENGR.)| SoliD',\n",
              "  'profile_picture': 'https://twitter.com/nato_tonyo11/photo',\n",
              "  'replies': 0,\n",
              "  'retweets': 2,\n",
              "  'likes': 18,\n",
              "  'is_retweet': False,\n",
              "  'posted_time': '2022-08-30T23:57:50+00:00',\n",
              "  'content': 'Good morning  world! And goodmorning to you too #DonnyPangilinan, enjoy Thailand babe and please do take selfies out there!, pagod nakong makikitang sapatos pa din nasa igs mo!!',\n",
              "  'hashtags': ['DonnyPangilinan'],\n",
              "  'mentions': [],\n",
              "  'images': [],\n",
              "  'videos': [],\n",
              "  'tweet_url': 'https://twitter.com/nato_tonyo11/status/1564764361742110720',\n",
              "  'link': ''},\n",
              " '1564764274098323456': {'tweet_id': '1564764274098323456',\n",
              "  'username': 'ThThitikarn61',\n",
              "  'name': 'thiti',\n",
              "  'profile_picture': 'https://twitter.com/ThThitikarn61/photo',\n",
              "  'replies': 0,\n",
              "  'retweets': 0,\n",
              "  'likes': 0,\n",
              "  'is_retweet': False,\n",
              "  'posted_time': '2022-08-30T23:57:29+00:00',\n",
              "  'content': 'Listening to #faraway the title track of #theotherside album by #MarkTuan \\n@marktuan\\n while traveling to Thailand',\n",
              "  'hashtags': ['faraway', 'theotherside', 'MarkTuan'],\n",
              "  'mentions': ['marktuan'],\n",
              "  'images': [],\n",
              "  'videos': [],\n",
              "  'tweet_url': 'https://twitter.com/ThThitikarn61/status/1564764274098323456',\n",
              "  'link': ''},\n",
              " '1564764028014313472': {'tweet_id': '1564764028014313472',\n",
              "  'username': 'Livetradingnews',\n",
              "  'name': 'Knightly News',\n",
              "  'profile_picture': 'https://twitter.com/Livetradingnews/photo',\n",
              "  'replies': 0,\n",
              "  'retweets': 2,\n",
              "  'likes': 3,\n",
              "  'is_retweet': False,\n",
              "  'posted_time': '2022-08-30T23:56:30+00:00',\n",
              "  'content': \"With the recent news of the SCB X-Bitkub deal falling apart and the Zipmex incident, investors in Thailand's digital currency market are facing a negative outlook\",\n",
              "  'hashtags': [],\n",
              "  'mentions': [],\n",
              "  'images': [],\n",
              "  'videos': [],\n",
              "  'tweet_url': 'https://twitter.com/Livetradingnews/status/1564764028014313472',\n",
              "  'link': ''},\n",
              " '1564763907700531202': {'tweet_id': '1564763907700531202',\n",
              "  'username': 'DiscoverSoc',\n",
              "  'name': 'Discover Society',\n",
              "  'profile_picture': 'https://twitter.com/DiscoverSoc/photo',\n",
              "  'replies': 0,\n",
              "  'retweets': 1,\n",
              "  'likes': 0,\n",
              "  'is_retweet': False,\n",
              "  'posted_time': '2022-08-30T23:56:02+00:00',\n",
              "  'content': '#ICYMI  On the Frontline. Crude Power in Thailand’s 2014 Coup: Old Soldiers Almost Die',\n",
              "  'hashtags': ['ICYMI'],\n",
              "  'mentions': [],\n",
              "  'images': [],\n",
              "  'videos': [],\n",
              "  'tweet_url': 'https://twitter.com/DiscoverSoc/status/1564763907700531202',\n",
              "  'link': 'https://t.co/OYQzv4BSm9'},\n",
              " '1564763775403712513': {'tweet_id': '1564763775403712513',\n",
              "  'username': 'Onside10900651',\n",
              "  'name': 'Onside',\n",
              "  'profile_picture': 'https://twitter.com/Onside10900651/photo',\n",
              "  'replies': 0,\n",
              "  'retweets': 0,\n",
              "  'likes': 0,\n",
              "  'is_retweet': False,\n",
              "  'posted_time': '2022-08-30T23:55:30+00:00',\n",
              "  'content': 'And I thought Thailand was absolutely democratic?',\n",
              "  'hashtags': [],\n",
              "  'mentions': [],\n",
              "  'images': [],\n",
              "  'videos': [],\n",
              "  'tweet_url': 'https://twitter.com/Onside10900651/status/1564763775403712513',\n",
              "  'link': ''},\n",
              " '1564763746463105026': {'tweet_id': '1564763746463105026',\n",
              "  'username': 'lekwilliams',\n",
              "  'name': 'Lek',\n",
              "  'profile_picture': 'https://twitter.com/lekwilliams/photo',\n",
              "  'replies': 0,\n",
              "  'retweets': 0,\n",
              "  'likes': 0,\n",
              "  'is_retweet': False,\n",
              "  'posted_time': '2022-08-30T23:55:23+00:00',\n",
              "  'content': \"How far would you go to save the family farm and keep your siblings in school? Read what Lek did in 'Behind The Smile, the story of Lek, a bar girl in Pattaya' by Owen Jones! https://smarturl.it/BTS-boxset?IQid=SJB-lw-thailand… #pattaya #Thailand Please retweet\",\n",
              "  'hashtags': ['pattaya', 'Thailand'],\n",
              "  'mentions': [],\n",
              "  'images': ['https://pbs.twimg.com/media/FbcoVHpWIAEh_R0?format=jpg&name=small'],\n",
              "  'videos': [],\n",
              "  'tweet_url': 'https://twitter.com/lekwilliams/status/1564763746463105026',\n",
              "  'link': ''},\n",
              " '1564763729967054848': {'tweet_id': '1564763729967054848',\n",
              "  'username': 'o_rung_o1',\n",
              "  'name': 'o_Rung_o',\n",
              "  'profile_picture': 'https://twitter.com/o_rung_o1/photo',\n",
              "  'replies': 0,\n",
              "  'retweets': 28,\n",
              "  'likes': 15,\n",
              "  'is_retweet': False,\n",
              "  'posted_time': '2022-08-30T23:55:19+00:00',\n",
              "  'content': 'วันนี้วันสุดท้ายของการโหวต รางวัล Outstanding Asian Star Thailand #SDA2022 ให้น้องพีพีแล้วนะคะ \\nมาพาน้องไปรับถ้วยรางวัล2ปีซ้อนกันค่ะ\\n#voteforppkritt \\n#ppkritt',\n",
              "  'hashtags': ['SDA2022', 'voteforppkritt', 'ppkritt'],\n",
              "  'mentions': [],\n",
              "  'images': ['https://pbs.twimg.com/media/FbcoUQAaQAAIFME?format=jpg&name=small'],\n",
              "  'videos': [],\n",
              "  'tweet_url': 'https://twitter.com/o_rung_o1/status/1564763729967054848',\n",
              "  'link': ''},\n",
              " '1564763679232405504': {'tweet_id': '1564763679232405504',\n",
              "  'username': 'sixhav',\n",
              "  'name': 'shi bangs',\n",
              "  'profile_picture': 'https://twitter.com/sixhav/photo',\n",
              "  'replies': 1,\n",
              "  'retweets': 0,\n",
              "  'likes': 1,\n",
              "  'is_retweet': False,\n",
              "  'posted_time': '2022-08-30T23:55:07+00:00',\n",
              "  'content': 'right? 2 years ago he is just a simple born and raised guy from thailand who can barely speak thai and likes to do diys and make everything about math i just love how authentic he is hahaha have you seen his 1000 push ups one? ',\n",
              "  'hashtags': [],\n",
              "  'mentions': [],\n",
              "  'images': [],\n",
              "  'videos': [],\n",
              "  'tweet_url': 'https://twitter.com/sixhav/status/1564763679232405504',\n",
              "  'link': ''},\n",
              " '1564763673662464003': {'tweet_id': '1564763673662464003',\n",
              "  'username': 'JaeJazee',\n",
              "  'name': 'ⒷⓉⓈARMY할머니ᴶᴹᴶᴷ³ᴶ',\n",
              "  'profile_picture': 'https://twitter.com/JaeJazee/photo',\n",
              "  'replies': 0,\n",
              "  'retweets': 0,\n",
              "  'likes': 0,\n",
              "  'is_retweet': False,\n",
              "  'posted_time': '2022-08-30T23:55:06+00:00',\n",
              "  'content': 'I knew I heard the beginning speech that Lisa had an Australian accent.  It is not that she is from Australia but Thailand... here is the explanation...',\n",
              "  'hashtags': [],\n",
              "  'mentions': [],\n",
              "  'images': ['https://pbs.twimg.com/media/FbcoKGTWAAAA0-D?format=png&name=900x900'],\n",
              "  'videos': [],\n",
              "  'tweet_url': 'https://twitter.com/JaeJazee/status/1564763673662464003',\n",
              "  'link': ''},\n",
              " '1564763553130655744': {'tweet_id': '1564763553130655744',\n",
              "  'username': 'chak4793',\n",
              "  'name': '¢нαк.єтн',\n",
              "  'profile_picture': 'https://twitter.com/chak4793/photo',\n",
              "  'replies': 1,\n",
              "  'retweets': 0,\n",
              "  'likes': 7,\n",
              "  'is_retweet': False,\n",
              "  'posted_time': '2022-08-30T23:54:37+00:00',\n",
              "  'content': 'Can fluf merch send to Asian countries like Japan or Thailand?',\n",
              "  'hashtags': [],\n",
              "  'mentions': [],\n",
              "  'images': [],\n",
              "  'videos': [],\n",
              "  'tweet_url': 'https://twitter.com/chak4793/status/1564763553130655744',\n",
              "  'link': ''},\n",
              " '1564763407818952705': {'tweet_id': '1564763407818952705',\n",
              "  'username': 'SarahJa56317435',\n",
              "  'name': 'j',\n",
              "  'profile_picture': 'https://twitter.com/SarahJa56317435/photo',\n",
              "  'replies': 0,\n",
              "  'retweets': 0,\n",
              "  'likes': 0,\n",
              "  'is_retweet': False,\n",
              "  'posted_time': '2022-08-30T23:54:02+00:00',\n",
              "  'content': \"= and the French people and also Thailand's people that have not thrown lethal military barracks gas at an 'Enemy of Thought' are the races to not survive a space race Masterclass\",\n",
              "  'hashtags': [],\n",
              "  'mentions': [],\n",
              "  'images': [],\n",
              "  'videos': [],\n",
              "  'tweet_url': 'https://twitter.com/SarahJa56317435/status/1564763407818952705',\n",
              "  'link': ''},\n",
              " '1564763389058027521': {'tweet_id': '1564763389058027521',\n",
              "  'username': 'starrykws',\n",
              "  'name': 'em ☾',\n",
              "  'profile_picture': 'https://twitter.com/starrykws/photo',\n",
              "  'replies': 0,\n",
              "  'retweets': 0,\n",
              "  'likes': 0,\n",
              "  'is_retweet': False,\n",
              "  'posted_time': '2022-08-30T23:53:58+00:00',\n",
              "  'content': 'woo.ddadda in thailand ',\n",
              "  'hashtags': [],\n",
              "  'mentions': [],\n",
              "  'images': ['https://pbs.twimg.com/media/FbcoAO_XkAA-Isn?format=jpg&name=360x360',\n",
              "   'https://pbs.twimg.com/media/FbcoAPDXEAYc26T?format=jpg&name=360x360'],\n",
              "  'videos': [],\n",
              "  'tweet_url': 'https://twitter.com/starrykws/status/1564763389058027521',\n",
              "  'link': ''},\n",
              " '1564763303989366784': {'tweet_id': '1564763303989366784',\n",
              "  'username': 'aisseutea',\n",
              "  'name': 'Cynthia Dewi',\n",
              "  'profile_picture': 'https://twitter.com/aisseutea/photo',\n",
              "  'replies': 1,\n",
              "  'retweets': 0,\n",
              "  'likes': 0,\n",
              "  'is_retweet': False,\n",
              "  'posted_time': '2022-08-30T23:53:38+00:00',\n",
              "  'content': 'Kalo di thailand bukan dong :)',\n",
              "  'hashtags': [],\n",
              "  'mentions': [],\n",
              "  'images': [],\n",
              "  'videos': [],\n",
              "  'tweet_url': 'https://twitter.com/aisseutea/status/1564763303989366784',\n",
              "  'link': ''},\n",
              " '1564763292354355200': {'tweet_id': '1564763292354355200',\n",
              "  'username': 'LDN327',\n",
              "  'name': 'LDN327',\n",
              "  'profile_picture': 'https://twitter.com/LDN327/photo',\n",
              "  'replies': 1,\n",
              "  'retweets': 7,\n",
              "  'likes': 5,\n",
              "  'is_retweet': False,\n",
              "  'posted_time': '2022-08-30T23:53:35+00:00',\n",
              "  'content': '- please engage\\n\\nELLE Thailand  \\n https://instagram.com/p/Ch02SH7hGpq/ \\n  https://instagram.com/p/Ch0xESZB1kr/ \\n\\n#LISA #LALISA #Money',\n",
              "  'hashtags': ['LISA', 'LALISA', 'Money'],\n",
              "  'mentions': [],\n",
              "  'images': [],\n",
              "  'videos': [],\n",
              "  'tweet_url': 'https://twitter.com/LDN327/status/1564763292354355200',\n",
              "  'link': 'https://t.co/6aZ539h9RK'},\n",
              " '1564763185244426240': {'tweet_id': '1564763185244426240',\n",
              "  'username': 'Jay_beebee',\n",
              "  'name': 'Jay Bee',\n",
              "  'profile_picture': 'https://twitter.com/Jay_beebee/photo',\n",
              "  'replies': 1,\n",
              "  'retweets': 7,\n",
              "  'likes': 7,\n",
              "  'is_retweet': True,\n",
              "  'posted_time': '2022-08-30T23:53:09+00:00',\n",
              "  'content': 'พร้อมครัช\\n\\nPlease,come to thailand.\\n \\n\\n#JAYB #제이비 \\n@jaybnow_hr\\n#GOT7 #갓세븐 \\n@GOT7\\n#CDNZA \\n@cdnzarecords\\n#Def',\n",
              "  'hashtags': ['JAYB', '제이비', 'GOT7', '갓세븐', 'CDNZA', 'Def'],\n",
              "  'mentions': ['jaybnow_hr', 'GOT7', 'cdnzarecords'],\n",
              "  'images': ['https://pbs.twimg.com/media/FbcmB6RUEAA75m6?format=jpg&name=small'],\n",
              "  'videos': [],\n",
              "  'tweet_url': 'https://twitter.com/Jay_beebee/status/1564763185244426240',\n",
              "  'link': ''},\n",
              " '1564763141589897217': {'tweet_id': '1564763141589897217',\n",
              "  'username': 'Iovelydoll',\n",
              "  'name': '',\n",
              "  'profile_picture': 'https://twitter.com/Iovelydoll/photo',\n",
              "  'replies': 0,\n",
              "  'retweets': 0,\n",
              "  'likes': 3,\n",
              "  'is_retweet': True,\n",
              "  'posted_time': '2022-08-30T23:52:59+00:00',\n",
              "  'content': 'we need more ten vlogs in thailand...a girl can dream',\n",
              "  'hashtags': [],\n",
              "  'mentions': [],\n",
              "  'images': ['https://pbs.twimg.com/media/EDNptiHUEAAqdwm?format=jpg&name=small'],\n",
              "  'videos': [],\n",
              "  'tweet_url': 'https://twitter.com/Iovelydoll/status/1564763141589897217',\n",
              "  'link': ''},\n",
              " '1564763050477244417': {'tweet_id': '1564763050477244417',\n",
              "  'username': 'jaemmrchv',\n",
              "  'name': 'wonyoungiii | surprise cutie',\n",
              "  'profile_picture': 'https://twitter.com/jaemmrchv/photo',\n",
              "  'replies': 0,\n",
              "  'retweets': 1,\n",
              "  'likes': 0,\n",
              "  'is_retweet': False,\n",
              "  'posted_time': '2022-08-30T23:52:37+00:00',\n",
              "  'content': '@NaEMwi\\n @jaemwinner\\n @JAEMIN_THAILAND',\n",
              "  'hashtags': [],\n",
              "  'mentions': ['NaEMwi', 'jaemwinner', 'JAEMIN_THAILAND'],\n",
              "  'images': [],\n",
              "  'videos': [],\n",
              "  'tweet_url': 'https://twitter.com/jaemmrchv/status/1564763050477244417',\n",
              "  'link': ''},\n",
              " '1564762341324992513': {'tweet_id': '1564762341324992513',\n",
              "  'username': 'Zeepruk_jfc',\n",
              "  'name': 'ZeePruk_JapanFC（Rest）',\n",
              "  'profile_picture': 'https://twitter.com/Zeepruk_jfc/photo',\n",
              "  'replies': 2,\n",
              "  'retweets': 54,\n",
              "  'likes': 32,\n",
              "  'is_retweet': False,\n",
              "  'posted_time': '2022-08-30T23:49:48+00:00',\n",
              "  'content': \"Can you help me?\\n\\ntracking number\\nFMP200001150XX\\n\\nDoes anyone know a shipping company in Thailand that handles this number?\\nI'm in trouble with no reply even if I contact the caller \\n\\n#Zunshine\",\n",
              "  'hashtags': ['Zunshine'],\n",
              "  'mentions': [],\n",
              "  'images': [],\n",
              "  'videos': [],\n",
              "  'tweet_url': 'https://twitter.com/Zeepruk_jfc/status/1564762341324992513',\n",
              "  'link': ''},\n",
              " '1564762335192940544': {'tweet_id': '1564762335192940544',\n",
              "  'username': 'NFTLadyEve',\n",
              "  'name': 'NFTeVe',\n",
              "  'profile_picture': 'https://twitter.com/NFTLadyEve/photo',\n",
              "  'replies': 1,\n",
              "  'retweets': 0,\n",
              "  'likes': 1,\n",
              "  'is_retweet': False,\n",
              "  'posted_time': '2022-08-30T23:49:47+00:00',\n",
              "  'content': 'how about Friday at 11 am? that way it will  be 10pm in Thailand & we can invite that crew.\\n@blossom_melonn',\n",
              "  'hashtags': [],\n",
              "  'mentions': ['blossom_melonn'],\n",
              "  'images': [],\n",
              "  'videos': [],\n",
              "  'tweet_url': 'https://twitter.com/NFTLadyEve/status/1564762335192940544',\n",
              "  'link': ''},\n",
              " '1564762170277052418': {'tweet_id': '1564762170277052418',\n",
              "  'username': 'AntzAntz1',\n",
              "  'name': 'palito..showcase',\n",
              "  'profile_picture': 'https://twitter.com/AntzAntz1/photo',\n",
              "  'replies': 0,\n",
              "  'retweets': 0,\n",
              "  'likes': 0,\n",
              "  'is_retweet': False,\n",
              "  'posted_time': '2022-08-30T23:49:07+00:00',\n",
              "  'content': 'เป๊ก ปาล์มมี่ | Disney+ Hotstar Thailand https://youtu.be/541HmrdzmHc via \\n@YouTube\\n  #เปกผลิตโชค #PeckPaLitChoke',\n",
              "  'hashtags': ['เปกผล', 'PeckPaLitChoke'],\n",
              "  'mentions': ['YouTube'],\n",
              "  'images': [],\n",
              "  'videos': [],\n",
              "  'tweet_url': 'https://twitter.com/AntzAntz1/status/1564762170277052418',\n",
              "  'link': ''},\n",
              " '1564762027507458049': {'tweet_id': '1564762027507458049',\n",
              "  'username': 'taraxacumyx',\n",
              "  'name': 'Dandelion',\n",
              "  'profile_picture': 'https://twitter.com/taraxacumyx/photo',\n",
              "  'replies': 1,\n",
              "  'retweets': 0,\n",
              "  'likes': 0,\n",
              "  'is_retweet': False,\n",
              "  'posted_time': '2022-08-30T23:48:33+00:00',\n",
              "  'content': '@blueeyellowww\\n Yuk nabung buat ke Thailand wkwk',\n",
              "  'hashtags': [],\n",
              "  'mentions': ['blueeyellowww'],\n",
              "  'images': [],\n",
              "  'videos': [],\n",
              "  'tweet_url': 'https://twitter.com/taraxacumyx/status/1564762027507458049',\n",
              "  'link': ''},\n",
              " '1564761944061382656': {'tweet_id': '1564761944061382656',\n",
              "  'username': 'IrfanHazard10',\n",
              "  'name': 'Irfan Rapiansyah',\n",
              "  'profile_picture': 'https://twitter.com/IrfanHazard10/photo',\n",
              "  'replies': 0,\n",
              "  'retweets': 0,\n",
              "  'likes': 0,\n",
              "  'is_retweet': False,\n",
              "  'posted_time': '2022-08-30T23:48:13+00:00',\n",
              "  'content': 'Padahal berharap pertama lawan Thailand atau Filipina',\n",
              "  'hashtags': [],\n",
              "  'mentions': [],\n",
              "  'images': [],\n",
              "  'videos': [],\n",
              "  'tweet_url': 'https://twitter.com/IrfanHazard10/status/1564761944061382656',\n",
              "  'link': ''},\n",
              " '1564761905410875392': {'tweet_id': '1564761905410875392',\n",
              "  'username': 'moanfIeur',\n",
              "  'name': '',\n",
              "  'profile_picture': 'https://twitter.com/moanfIeur/photo',\n",
              "  'replies': 0,\n",
              "  'retweets': 0,\n",
              "  'likes': 0,\n",
              "  'is_retweet': False,\n",
              "  'posted_time': '2022-08-30T23:48:04+00:00',\n",
              "  'content': 'Tinggal cari duitnya aja ini mah kalo di Thailand bisa pake Qris',\n",
              "  'hashtags': [],\n",
              "  'mentions': [],\n",
              "  'images': [],\n",
              "  'videos': [],\n",
              "  'tweet_url': 'https://twitter.com/moanfIeur/status/1564761905410875392',\n",
              "  'link': ''}}"
            ]
          },
          "metadata": {},
          "execution_count": 5
        }
      ]
    },
    {
      "cell_type": "code",
      "source": [
        "first_tweet=list(thai_json.keys())[0]"
      ],
      "metadata": {
        "id": "GcAZ5K_eWAYy"
      },
      "id": "GcAZ5K_eWAYy",
      "execution_count": 6,
      "outputs": []
    },
    {
      "cell_type": "markdown",
      "id": "ec2115fb",
      "metadata": {
        "id": "ec2115fb"
      },
      "source": [
        "#### Pretty print json/dict object"
      ]
    },
    {
      "cell_type": "markdown",
      "id": "91864d4a",
      "metadata": {
        "id": "91864d4a"
      },
      "source": [
        "Possible approaches:\n",
        "* In fact, `pandas` has `pandas.read_json(<file_dir>)` function to read json file into dataframe\n",
        "* As we create a data dict, we can also read our data dict into a pandas dataframe"
      ]
    },
    {
      "cell_type": "code",
      "execution_count": 7,
      "id": "fa4a5506",
      "metadata": {
        "id": "fa4a5506"
      },
      "outputs": [],
      "source": [
        "thai_pd = pd.read_json(StringIO(d), orient='index')"
      ]
    },
    {
      "cell_type": "code",
      "source": [
        "thai_pd.head(5)"
      ],
      "metadata": {
        "id": "4d6Y8IbrN1Zp",
        "outputId": "e71652ff-1aac-41a1-a712-15ca0a6a0f1c",
        "colab": {
          "base_uri": "https://localhost:8080/",
          "height": 451
        }
      },
      "id": "4d6Y8IbrN1Zp",
      "execution_count": 22,
      "outputs": [
        {
          "output_type": "execute_result",
          "data": {
            "text/plain": [
              "                                          tweet_id        username  \\\n",
              "2019-08-02 16:54:53.038882816  1564764893038882816      matthunter   \n",
              "2019-08-02 16:54:26.598080513  1564764866598080512      DavSmithVP   \n",
              "2019-08-02 16:54:05.685280772  1564764845685280768    DailyPattaya   \n",
              "2019-08-02 16:51:50.804897792  1564764710804897792   Bryan62766077   \n",
              "2019-08-02 16:47:48.277612549  1564764468277612544  Megan_and_Grrr   \n",
              "\n",
              "                                                         name  \\\n",
              "2019-08-02 16:54:53.038882816                     MATT HUNTΞR   \n",
              "2019-08-02 16:54:26.598080513  DavSmith / Virtual Photography   \n",
              "2019-08-02 16:54:05.685280772               The Pattaya Daily   \n",
              "2019-08-02 16:51:50.804897792                           Bryan   \n",
              "2019-08-02 16:47:48.277612549                           Megan   \n",
              "\n",
              "                                                        profile_picture  \\\n",
              "2019-08-02 16:54:53.038882816      https://twitter.com/matthunter/photo   \n",
              "2019-08-02 16:54:26.598080513      https://twitter.com/DavSmithVP/photo   \n",
              "2019-08-02 16:54:05.685280772    https://twitter.com/DailyPattaya/photo   \n",
              "2019-08-02 16:51:50.804897792   https://twitter.com/Bryan62766077/photo   \n",
              "2019-08-02 16:47:48.277612549  https://twitter.com/Megan_and_Grrr/photo   \n",
              "\n",
              "                               replies  retweets  likes  is_retweet  \\\n",
              "2019-08-02 16:54:53.038882816        2         1      7       False   \n",
              "2019-08-02 16:54:26.598080513        0         0      2       False   \n",
              "2019-08-02 16:54:05.685280772        0         0      0       False   \n",
              "2019-08-02 16:51:50.804897792        1         0      1       False   \n",
              "2019-08-02 16:47:48.277612549        0         0      0       False   \n",
              "\n",
              "                                            posted_time  \\\n",
              "2019-08-02 16:54:53.038882816 2022-08-30 23:59:57+00:00   \n",
              "2019-08-02 16:54:26.598080513 2022-08-30 23:59:50+00:00   \n",
              "2019-08-02 16:54:05.685280772 2022-08-30 23:59:45+00:00   \n",
              "2019-08-02 16:51:50.804897792 2022-08-30 23:59:13+00:00   \n",
              "2019-08-02 16:47:48.277612549 2022-08-30 23:58:15+00:00   \n",
              "\n",
              "                                                                         content  \\\n",
              "2019-08-02 16:54:53.038882816  Thanks for asking! Yes, we will support shippi...   \n",
              "2019-08-02 16:54:26.598080513  Tomb Raider Underworld | Thailand \\n#VirtualPh...   \n",
              "2019-08-02 16:54:05.685280772  The latest The Pattaya Daily! http://thepattay...   \n",
              "2019-08-02 16:51:50.804897792  You can live some places for next to nothing, ...   \n",
              "2019-08-02 16:47:48.277612549  ALIEN HOUSE is a story of love, hope and alien...   \n",
              "\n",
              "                                                  hashtags  \\\n",
              "2019-08-02 16:54:53.038882816                           []   \n",
              "2019-08-02 16:54:26.598080513         [VirtualPhotography]   \n",
              "2019-08-02 16:54:05.685280772          [thailand, pattaya]   \n",
              "2019-08-02 16:51:50.804897792                           []   \n",
              "2019-08-02 16:47:48.277612549  [fantasy, extraterrestrial]   \n",
              "\n",
              "                                                    mentions  \\\n",
              "2019-08-02 16:54:53.038882816                             []   \n",
              "2019-08-02 16:54:26.598080513  [tombraider, crystaldynamics]   \n",
              "2019-08-02 16:54:05.685280772         [PopeKael, ASEANNOWTH]   \n",
              "2019-08-02 16:51:50.804897792                             []   \n",
              "2019-08-02 16:47:48.277612549                             []   \n",
              "\n",
              "                                                                          images  \\\n",
              "2019-08-02 16:54:53.038882816                                                 []   \n",
              "2019-08-02 16:54:26.598080513  [https://pbs.twimg.com/media/FbcpF-FXkAIlqTS?f...   \n",
              "2019-08-02 16:54:05.685280772                                                 []   \n",
              "2019-08-02 16:51:50.804897792                                                 []   \n",
              "2019-08-02 16:47:48.277612549  [https://pbs.twimg.com/media/Fbco_bSXEAMcDOZ?f...   \n",
              "\n",
              "                              videos  \\\n",
              "2019-08-02 16:54:53.038882816     []   \n",
              "2019-08-02 16:54:26.598080513     []   \n",
              "2019-08-02 16:54:05.685280772     []   \n",
              "2019-08-02 16:51:50.804897792     []   \n",
              "2019-08-02 16:47:48.277612549     []   \n",
              "\n",
              "                                                                       tweet_url  \\\n",
              "2019-08-02 16:54:53.038882816  https://twitter.com/matthunter/status/15647648...   \n",
              "2019-08-02 16:54:26.598080513  https://twitter.com/DavSmithVP/status/15647648...   \n",
              "2019-08-02 16:54:05.685280772  https://twitter.com/DailyPattaya/status/156476...   \n",
              "2019-08-02 16:51:50.804897792  https://twitter.com/Bryan62766077/status/15647...   \n",
              "2019-08-02 16:47:48.277612549  https://twitter.com/Megan_and_Grrr/status/1564...   \n",
              "\n",
              "                              link  \n",
              "2019-08-02 16:54:53.038882816       \n",
              "2019-08-02 16:54:26.598080513       \n",
              "2019-08-02 16:54:05.685280772       \n",
              "2019-08-02 16:51:50.804897792       \n",
              "2019-08-02 16:47:48.277612549       "
            ],
            "text/html": [
              "\n",
              "  <div id=\"df-06530631-5e6e-4983-8fbb-b1aa9653eafe\" class=\"colab-df-container\">\n",
              "    <div>\n",
              "<style scoped>\n",
              "    .dataframe tbody tr th:only-of-type {\n",
              "        vertical-align: middle;\n",
              "    }\n",
              "\n",
              "    .dataframe tbody tr th {\n",
              "        vertical-align: top;\n",
              "    }\n",
              "\n",
              "    .dataframe thead th {\n",
              "        text-align: right;\n",
              "    }\n",
              "</style>\n",
              "<table border=\"1\" class=\"dataframe\">\n",
              "  <thead>\n",
              "    <tr style=\"text-align: right;\">\n",
              "      <th></th>\n",
              "      <th>tweet_id</th>\n",
              "      <th>username</th>\n",
              "      <th>name</th>\n",
              "      <th>profile_picture</th>\n",
              "      <th>replies</th>\n",
              "      <th>retweets</th>\n",
              "      <th>likes</th>\n",
              "      <th>is_retweet</th>\n",
              "      <th>posted_time</th>\n",
              "      <th>content</th>\n",
              "      <th>hashtags</th>\n",
              "      <th>mentions</th>\n",
              "      <th>images</th>\n",
              "      <th>videos</th>\n",
              "      <th>tweet_url</th>\n",
              "      <th>link</th>\n",
              "    </tr>\n",
              "  </thead>\n",
              "  <tbody>\n",
              "    <tr>\n",
              "      <th>2019-08-02 16:54:53.038882816</th>\n",
              "      <td>1564764893038882816</td>\n",
              "      <td>matthunter</td>\n",
              "      <td>MATT HUNTΞR</td>\n",
              "      <td>https://twitter.com/matthunter/photo</td>\n",
              "      <td>2</td>\n",
              "      <td>1</td>\n",
              "      <td>7</td>\n",
              "      <td>False</td>\n",
              "      <td>2022-08-30 23:59:57+00:00</td>\n",
              "      <td>Thanks for asking! Yes, we will support shippi...</td>\n",
              "      <td>[]</td>\n",
              "      <td>[]</td>\n",
              "      <td>[]</td>\n",
              "      <td>[]</td>\n",
              "      <td>https://twitter.com/matthunter/status/15647648...</td>\n",
              "      <td></td>\n",
              "    </tr>\n",
              "    <tr>\n",
              "      <th>2019-08-02 16:54:26.598080513</th>\n",
              "      <td>1564764866598080512</td>\n",
              "      <td>DavSmithVP</td>\n",
              "      <td>DavSmith / Virtual Photography</td>\n",
              "      <td>https://twitter.com/DavSmithVP/photo</td>\n",
              "      <td>0</td>\n",
              "      <td>0</td>\n",
              "      <td>2</td>\n",
              "      <td>False</td>\n",
              "      <td>2022-08-30 23:59:50+00:00</td>\n",
              "      <td>Tomb Raider Underworld | Thailand \\n#VirtualPh...</td>\n",
              "      <td>[VirtualPhotography]</td>\n",
              "      <td>[tombraider, crystaldynamics]</td>\n",
              "      <td>[https://pbs.twimg.com/media/FbcpF-FXkAIlqTS?f...</td>\n",
              "      <td>[]</td>\n",
              "      <td>https://twitter.com/DavSmithVP/status/15647648...</td>\n",
              "      <td></td>\n",
              "    </tr>\n",
              "    <tr>\n",
              "      <th>2019-08-02 16:54:05.685280772</th>\n",
              "      <td>1564764845685280768</td>\n",
              "      <td>DailyPattaya</td>\n",
              "      <td>The Pattaya Daily</td>\n",
              "      <td>https://twitter.com/DailyPattaya/photo</td>\n",
              "      <td>0</td>\n",
              "      <td>0</td>\n",
              "      <td>0</td>\n",
              "      <td>False</td>\n",
              "      <td>2022-08-30 23:59:45+00:00</td>\n",
              "      <td>The latest The Pattaya Daily! http://thepattay...</td>\n",
              "      <td>[thailand, pattaya]</td>\n",
              "      <td>[PopeKael, ASEANNOWTH]</td>\n",
              "      <td>[]</td>\n",
              "      <td>[]</td>\n",
              "      <td>https://twitter.com/DailyPattaya/status/156476...</td>\n",
              "      <td></td>\n",
              "    </tr>\n",
              "    <tr>\n",
              "      <th>2019-08-02 16:51:50.804897792</th>\n",
              "      <td>1564764710804897792</td>\n",
              "      <td>Bryan62766077</td>\n",
              "      <td>Bryan</td>\n",
              "      <td>https://twitter.com/Bryan62766077/photo</td>\n",
              "      <td>1</td>\n",
              "      <td>0</td>\n",
              "      <td>1</td>\n",
              "      <td>False</td>\n",
              "      <td>2022-08-30 23:59:13+00:00</td>\n",
              "      <td>You can live some places for next to nothing, ...</td>\n",
              "      <td>[]</td>\n",
              "      <td>[]</td>\n",
              "      <td>[]</td>\n",
              "      <td>[]</td>\n",
              "      <td>https://twitter.com/Bryan62766077/status/15647...</td>\n",
              "      <td></td>\n",
              "    </tr>\n",
              "    <tr>\n",
              "      <th>2019-08-02 16:47:48.277612549</th>\n",
              "      <td>1564764468277612544</td>\n",
              "      <td>Megan_and_Grrr</td>\n",
              "      <td>Megan</td>\n",
              "      <td>https://twitter.com/Megan_and_Grrr/photo</td>\n",
              "      <td>0</td>\n",
              "      <td>0</td>\n",
              "      <td>0</td>\n",
              "      <td>False</td>\n",
              "      <td>2022-08-30 23:58:15+00:00</td>\n",
              "      <td>ALIEN HOUSE is a story of love, hope and alien...</td>\n",
              "      <td>[fantasy, extraterrestrial]</td>\n",
              "      <td>[]</td>\n",
              "      <td>[https://pbs.twimg.com/media/Fbco_bSXEAMcDOZ?f...</td>\n",
              "      <td>[]</td>\n",
              "      <td>https://twitter.com/Megan_and_Grrr/status/1564...</td>\n",
              "      <td></td>\n",
              "    </tr>\n",
              "  </tbody>\n",
              "</table>\n",
              "</div>\n",
              "    <div class=\"colab-df-buttons\">\n",
              "\n",
              "  <div class=\"colab-df-container\">\n",
              "    <button class=\"colab-df-convert\" onclick=\"convertToInteractive('df-06530631-5e6e-4983-8fbb-b1aa9653eafe')\"\n",
              "            title=\"Convert this dataframe to an interactive table.\"\n",
              "            style=\"display:none;\">\n",
              "\n",
              "  <svg xmlns=\"http://www.w3.org/2000/svg\" height=\"24px\" viewBox=\"0 -960 960 960\">\n",
              "    <path d=\"M120-120v-720h720v720H120Zm60-500h600v-160H180v160Zm220 220h160v-160H400v160Zm0 220h160v-160H400v160ZM180-400h160v-160H180v160Zm440 0h160v-160H620v160ZM180-180h160v-160H180v160Zm440 0h160v-160H620v160Z\"/>\n",
              "  </svg>\n",
              "    </button>\n",
              "\n",
              "  <style>\n",
              "    .colab-df-container {\n",
              "      display:flex;\n",
              "      gap: 12px;\n",
              "    }\n",
              "\n",
              "    .colab-df-convert {\n",
              "      background-color: #E8F0FE;\n",
              "      border: none;\n",
              "      border-radius: 50%;\n",
              "      cursor: pointer;\n",
              "      display: none;\n",
              "      fill: #1967D2;\n",
              "      height: 32px;\n",
              "      padding: 0 0 0 0;\n",
              "      width: 32px;\n",
              "    }\n",
              "\n",
              "    .colab-df-convert:hover {\n",
              "      background-color: #E2EBFA;\n",
              "      box-shadow: 0px 1px 2px rgba(60, 64, 67, 0.3), 0px 1px 3px 1px rgba(60, 64, 67, 0.15);\n",
              "      fill: #174EA6;\n",
              "    }\n",
              "\n",
              "    .colab-df-buttons div {\n",
              "      margin-bottom: 4px;\n",
              "    }\n",
              "\n",
              "    [theme=dark] .colab-df-convert {\n",
              "      background-color: #3B4455;\n",
              "      fill: #D2E3FC;\n",
              "    }\n",
              "\n",
              "    [theme=dark] .colab-df-convert:hover {\n",
              "      background-color: #434B5C;\n",
              "      box-shadow: 0px 1px 3px 1px rgba(0, 0, 0, 0.15);\n",
              "      filter: drop-shadow(0px 1px 2px rgba(0, 0, 0, 0.3));\n",
              "      fill: #FFFFFF;\n",
              "    }\n",
              "  </style>\n",
              "\n",
              "    <script>\n",
              "      const buttonEl =\n",
              "        document.querySelector('#df-06530631-5e6e-4983-8fbb-b1aa9653eafe button.colab-df-convert');\n",
              "      buttonEl.style.display =\n",
              "        google.colab.kernel.accessAllowed ? 'block' : 'none';\n",
              "\n",
              "      async function convertToInteractive(key) {\n",
              "        const element = document.querySelector('#df-06530631-5e6e-4983-8fbb-b1aa9653eafe');\n",
              "        const dataTable =\n",
              "          await google.colab.kernel.invokeFunction('convertToInteractive',\n",
              "                                                    [key], {});\n",
              "        if (!dataTable) return;\n",
              "\n",
              "        const docLinkHtml = 'Like what you see? Visit the ' +\n",
              "          '<a target=\"_blank\" href=https://colab.research.google.com/notebooks/data_table.ipynb>data table notebook</a>'\n",
              "          + ' to learn more about interactive tables.';\n",
              "        element.innerHTML = '';\n",
              "        dataTable['output_type'] = 'display_data';\n",
              "        await google.colab.output.renderOutput(dataTable, element);\n",
              "        const docLink = document.createElement('div');\n",
              "        docLink.innerHTML = docLinkHtml;\n",
              "        element.appendChild(docLink);\n",
              "      }\n",
              "    </script>\n",
              "  </div>\n",
              "\n",
              "\n",
              "<div id=\"df-406c14ba-47b4-4629-a369-7bb964236f19\">\n",
              "  <button class=\"colab-df-quickchart\" onclick=\"quickchart('df-406c14ba-47b4-4629-a369-7bb964236f19')\"\n",
              "            title=\"Suggest charts.\"\n",
              "            style=\"display:none;\">\n",
              "\n",
              "<svg xmlns=\"http://www.w3.org/2000/svg\" height=\"24px\"viewBox=\"0 0 24 24\"\n",
              "     width=\"24px\">\n",
              "    <g>\n",
              "        <path d=\"M19 3H5c-1.1 0-2 .9-2 2v14c0 1.1.9 2 2 2h14c1.1 0 2-.9 2-2V5c0-1.1-.9-2-2-2zM9 17H7v-7h2v7zm4 0h-2V7h2v10zm4 0h-2v-4h2v4z\"/>\n",
              "    </g>\n",
              "</svg>\n",
              "  </button>\n",
              "\n",
              "<style>\n",
              "  .colab-df-quickchart {\n",
              "      --bg-color: #E8F0FE;\n",
              "      --fill-color: #1967D2;\n",
              "      --hover-bg-color: #E2EBFA;\n",
              "      --hover-fill-color: #174EA6;\n",
              "      --disabled-fill-color: #AAA;\n",
              "      --disabled-bg-color: #DDD;\n",
              "  }\n",
              "\n",
              "  [theme=dark] .colab-df-quickchart {\n",
              "      --bg-color: #3B4455;\n",
              "      --fill-color: #D2E3FC;\n",
              "      --hover-bg-color: #434B5C;\n",
              "      --hover-fill-color: #FFFFFF;\n",
              "      --disabled-bg-color: #3B4455;\n",
              "      --disabled-fill-color: #666;\n",
              "  }\n",
              "\n",
              "  .colab-df-quickchart {\n",
              "    background-color: var(--bg-color);\n",
              "    border: none;\n",
              "    border-radius: 50%;\n",
              "    cursor: pointer;\n",
              "    display: none;\n",
              "    fill: var(--fill-color);\n",
              "    height: 32px;\n",
              "    padding: 0;\n",
              "    width: 32px;\n",
              "  }\n",
              "\n",
              "  .colab-df-quickchart:hover {\n",
              "    background-color: var(--hover-bg-color);\n",
              "    box-shadow: 0 1px 2px rgba(60, 64, 67, 0.3), 0 1px 3px 1px rgba(60, 64, 67, 0.15);\n",
              "    fill: var(--button-hover-fill-color);\n",
              "  }\n",
              "\n",
              "  .colab-df-quickchart-complete:disabled,\n",
              "  .colab-df-quickchart-complete:disabled:hover {\n",
              "    background-color: var(--disabled-bg-color);\n",
              "    fill: var(--disabled-fill-color);\n",
              "    box-shadow: none;\n",
              "  }\n",
              "\n",
              "  .colab-df-spinner {\n",
              "    border: 2px solid var(--fill-color);\n",
              "    border-color: transparent;\n",
              "    border-bottom-color: var(--fill-color);\n",
              "    animation:\n",
              "      spin 1s steps(1) infinite;\n",
              "  }\n",
              "\n",
              "  @keyframes spin {\n",
              "    0% {\n",
              "      border-color: transparent;\n",
              "      border-bottom-color: var(--fill-color);\n",
              "      border-left-color: var(--fill-color);\n",
              "    }\n",
              "    20% {\n",
              "      border-color: transparent;\n",
              "      border-left-color: var(--fill-color);\n",
              "      border-top-color: var(--fill-color);\n",
              "    }\n",
              "    30% {\n",
              "      border-color: transparent;\n",
              "      border-left-color: var(--fill-color);\n",
              "      border-top-color: var(--fill-color);\n",
              "      border-right-color: var(--fill-color);\n",
              "    }\n",
              "    40% {\n",
              "      border-color: transparent;\n",
              "      border-right-color: var(--fill-color);\n",
              "      border-top-color: var(--fill-color);\n",
              "    }\n",
              "    60% {\n",
              "      border-color: transparent;\n",
              "      border-right-color: var(--fill-color);\n",
              "    }\n",
              "    80% {\n",
              "      border-color: transparent;\n",
              "      border-right-color: var(--fill-color);\n",
              "      border-bottom-color: var(--fill-color);\n",
              "    }\n",
              "    90% {\n",
              "      border-color: transparent;\n",
              "      border-bottom-color: var(--fill-color);\n",
              "    }\n",
              "  }\n",
              "</style>\n",
              "\n",
              "  <script>\n",
              "    async function quickchart(key) {\n",
              "      const quickchartButtonEl =\n",
              "        document.querySelector('#' + key + ' button');\n",
              "      quickchartButtonEl.disabled = true;  // To prevent multiple clicks.\n",
              "      quickchartButtonEl.classList.add('colab-df-spinner');\n",
              "      try {\n",
              "        const charts = await google.colab.kernel.invokeFunction(\n",
              "            'suggestCharts', [key], {});\n",
              "      } catch (error) {\n",
              "        console.error('Error during call to suggestCharts:', error);\n",
              "      }\n",
              "      quickchartButtonEl.classList.remove('colab-df-spinner');\n",
              "      quickchartButtonEl.classList.add('colab-df-quickchart-complete');\n",
              "    }\n",
              "    (() => {\n",
              "      let quickchartButtonEl =\n",
              "        document.querySelector('#df-406c14ba-47b4-4629-a369-7bb964236f19 button');\n",
              "      quickchartButtonEl.style.display =\n",
              "        google.colab.kernel.accessAllowed ? 'block' : 'none';\n",
              "    })();\n",
              "  </script>\n",
              "</div>\n",
              "    </div>\n",
              "  </div>\n"
            ]
          },
          "metadata": {},
          "execution_count": 22
        }
      ]
    },
    {
      "cell_type": "markdown",
      "id": "45b0e435",
      "metadata": {
        "id": "45b0e435"
      },
      "source": [
        "### Your report\n",
        "* The total number of tweets collected in the file:\n",
        "* The content of the first tweet:\n",
        "* Is the first tweet contained any hashtags or mentions?\n",
        "* Collect all hashtags related to Thailand from this data\n",
        "* Find the most popular tweets in your collection of tweets, i.e. the tweets with the largest number of retweet/replies/likes counts\n",
        "    * You are free to define your own popularity metric\n",
        "* Display the top 5 tweets that are the most popular among your collection\n",
        "* Create a word cloud of words in the contents; however, we note that this word cloud is not a good representation of Thailand as the data size is small"
      ]
    },
    {
      "cell_type": "code",
      "execution_count": 29,
      "id": "9b3dc416",
      "metadata": {
        "scrolled": true,
        "id": "9b3dc416",
        "colab": {
          "base_uri": "https://localhost:8080/",
          "height": 1000
        },
        "outputId": "a2dd36a8-10f5-4610-925d-e80e33ce0c0c"
      },
      "outputs": [
        {
          "output_type": "stream",
          "name": "stdout",
          "text": [
            "report\n",
            "total_number = \"29\" \n",
            "The content of the first tweet is \"Thanks for asking! Yes, we will support shipping to most countries, including Japan and Thailand. \"\n",
            "Is the first tweet contained any hashtags is \"[]\" and Is the first tweet contained any mentions is \"[]\"\n",
            "Collect all hashtags related to Thailand is [[['thailand', 'pattaya'], ['4', 'ohmpawat', 'ย'], ['pattaya', 'Thailand'], ['SDA2022', 'voteforppkritt', 'ppkritt'], ['เปกผล', 'PeckPaLitChoke'], ['LISA', 'LALISA', 'Money']]]\n",
            "the most popular tweetswith the largest number of retweet is\n",
            "                                          tweet_id  \\\n",
            "2019-08-02 16:47:25.825458181  1564764445825458176   \n",
            "2019-08-02 16:12:21.324992513  1564762341324992512   \n",
            "2019-08-02 16:35:29.967054848  1564763729967054848   \n",
            "2019-08-02 16:28:12.354355200  1564763292354355200   \n",
            "2019-08-02 16:26:25.244426240  1564763185244426240   \n",
            "2019-08-02 16:40:28.014313472  1564764028014313472   \n",
            "2019-08-02 16:46:01.742110720  1564764361742110720   \n",
            "2019-08-02 16:38:27.700531202  1564763907700531200   \n",
            "2019-08-02 16:24:10.477244417  1564763050477244416   \n",
            "2019-08-02 16:54:53.038882816  1564764893038882816   \n",
            "2019-08-02 16:29:49.058027521  1564763389058027520   \n",
            "2019-08-02 16:12:15.192940544  1564762335192940544   \n",
            "2019-08-02 16:09:30.277052418  1564762170277052416   \n",
            "2019-08-02 16:25:41.589897217  1564763141589897216   \n",
            "2019-08-02 16:07:07.507458049  1564762027507458048   \n",
            "2019-08-02 16:05:44.061382656  1564761944061382656   \n",
            "2019-08-02 16:28:23.989366784  1564763303989366784   \n",
            "2019-08-02 16:34:33.662464003  1564763673662464000   \n",
            "2019-08-02 16:30:07.818952705  1564763407818952704   \n",
            "2019-08-02 16:32:33.130655744  1564763553130655744   \n",
            "2019-08-02 16:54:26.598080513  1564764866598080512   \n",
            "2019-08-02 16:34:39.232405504  1564763679232405504   \n",
            "2019-08-02 16:35:46.463105026  1564763746463105024   \n",
            "2019-08-02 16:36:15.403712513  1564763775403712512   \n",
            "2019-08-02 16:44:34.098323456  1564764274098323456   \n",
            "2019-08-02 16:47:48.277612549  1564764468277612544   \n",
            "2019-08-02 16:51:50.804897792  1564764710804897792   \n",
            "2019-08-02 16:54:05.685280772  1564764845685280768   \n",
            "2019-08-02 16:05:05.410875392  1564761905410875392   \n",
            "\n",
            "                                                         name  \\\n",
            "2019-08-02 16:47:25.825458181          OhmPawat International   \n",
            "2019-08-02 16:12:21.324992513           ZeePruk_JapanFC（Rest）   \n",
            "2019-08-02 16:35:29.967054848                        o_Rung_o   \n",
            "2019-08-02 16:28:12.354355200                          LDN327   \n",
            "2019-08-02 16:26:25.244426240                         Jay Bee   \n",
            "2019-08-02 16:40:28.014313472                   Knightly News   \n",
            "2019-08-02 16:46:01.742110720     nutri(BUSY SI ENGR.)| SoliD   \n",
            "2019-08-02 16:38:27.700531202                Discover Society   \n",
            "2019-08-02 16:24:10.477244417    wonyoungiii | surprise cutie   \n",
            "2019-08-02 16:54:53.038882816                     MATT HUNTΞR   \n",
            "2019-08-02 16:29:49.058027521                            em ☾   \n",
            "2019-08-02 16:12:15.192940544                          NFTeVe   \n",
            "2019-08-02 16:09:30.277052418                palito..showcase   \n",
            "2019-08-02 16:25:41.589897217                                   \n",
            "2019-08-02 16:07:07.507458049                       Dandelion   \n",
            "2019-08-02 16:05:44.061382656                Irfan Rapiansyah   \n",
            "2019-08-02 16:28:23.989366784                    Cynthia Dewi   \n",
            "2019-08-02 16:34:33.662464003                ⒷⓉⓈARMY할머니ᴶᴹᴶᴷ³ᴶ   \n",
            "2019-08-02 16:30:07.818952705                               j   \n",
            "2019-08-02 16:32:33.130655744                        ¢нαк.єтн   \n",
            "2019-08-02 16:54:26.598080513  DavSmith / Virtual Photography   \n",
            "2019-08-02 16:34:39.232405504                       shi bangs   \n",
            "2019-08-02 16:35:46.463105026                             Lek   \n",
            "2019-08-02 16:36:15.403712513                          Onside   \n",
            "2019-08-02 16:44:34.098323456                           thiti   \n",
            "2019-08-02 16:47:48.277612549                           Megan   \n",
            "2019-08-02 16:51:50.804897792                           Bryan   \n",
            "2019-08-02 16:54:05.685280772               The Pattaya Daily   \n",
            "2019-08-02 16:05:05.410875392                                   \n",
            "\n",
            "                                      username  retweets  \n",
            "2019-08-02 16:47:25.825458181    OhmPawatInter        99  \n",
            "2019-08-02 16:12:21.324992513      Zeepruk_jfc        54  \n",
            "2019-08-02 16:35:29.967054848        o_rung_o1        28  \n",
            "2019-08-02 16:28:12.354355200           LDN327         7  \n",
            "2019-08-02 16:26:25.244426240       Jay_beebee         7  \n",
            "2019-08-02 16:40:28.014313472  Livetradingnews         2  \n",
            "2019-08-02 16:46:01.742110720     nato_tonyo11         2  \n",
            "2019-08-02 16:38:27.700531202      DiscoverSoc         1  \n",
            "2019-08-02 16:24:10.477244417        jaemmrchv         1  \n",
            "2019-08-02 16:54:53.038882816       matthunter         1  \n",
            "2019-08-02 16:29:49.058027521        starrykws         0  \n",
            "2019-08-02 16:12:15.192940544       NFTLadyEve         0  \n",
            "2019-08-02 16:09:30.277052418        AntzAntz1         0  \n",
            "2019-08-02 16:25:41.589897217       Iovelydoll         0  \n",
            "2019-08-02 16:07:07.507458049      taraxacumyx         0  \n",
            "2019-08-02 16:05:44.061382656    IrfanHazard10         0  \n",
            "2019-08-02 16:28:23.989366784        aisseutea         0  \n",
            "2019-08-02 16:34:33.662464003         JaeJazee         0  \n",
            "2019-08-02 16:30:07.818952705  SarahJa56317435         0  \n",
            "2019-08-02 16:32:33.130655744         chak4793         0  \n",
            "2019-08-02 16:54:26.598080513       DavSmithVP         0  \n",
            "2019-08-02 16:34:39.232405504           sixhav         0  \n",
            "2019-08-02 16:35:46.463105026      lekwilliams         0  \n",
            "2019-08-02 16:36:15.403712513   Onside10900651         0  \n",
            "2019-08-02 16:44:34.098323456    ThThitikarn61         0  \n",
            "2019-08-02 16:47:48.277612549   Megan_and_Grrr         0  \n",
            "2019-08-02 16:51:50.804897792    Bryan62766077         0  \n",
            "2019-08-02 16:54:05.685280772     DailyPattaya         0  \n",
            "2019-08-02 16:05:05.410875392        moanfIeur         0  \n",
            "the top 5 tweets that are the most popular is\n",
            "                                          tweet_id                    name  \\\n",
            "2019-08-02 16:47:25.825458181  1564764445825458176  OhmPawat International   \n",
            "2019-08-02 16:12:21.324992513  1564762341324992512   ZeePruk_JapanFC（Rest）   \n",
            "2019-08-02 16:35:29.967054848  1564763729967054848                o_Rung_o   \n",
            "2019-08-02 16:28:12.354355200  1564763292354355200                  LDN327   \n",
            "2019-08-02 16:26:25.244426240  1564763185244426240                 Jay Bee   \n",
            "\n",
            "                                    username  retweets  \n",
            "2019-08-02 16:47:25.825458181  OhmPawatInter        99  \n",
            "2019-08-02 16:12:21.324992513    Zeepruk_jfc        54  \n",
            "2019-08-02 16:35:29.967054848      o_rung_o1        28  \n",
            "2019-08-02 16:28:12.354355200         LDN327         7  \n",
            "2019-08-02 16:26:25.244426240     Jay_beebee         7  \n",
            "Create a word cloud of words in the contents\n"
          ]
        },
        {
          "output_type": "display_data",
          "data": {
            "text/plain": [
              "<Figure size 640x480 with 1 Axes>"
            ],
            "image/png": "[encoded data removed]"
          },
          "metadata": {}
        }
      ],
      "source": [
        "# ----------------- Your code here -----------------\n",
        "# 1\n",
        "total_number = thai_pd['tweet_id'].count()\n",
        "# 2\n",
        "content_first = thai_pd['content'][0]\n",
        "# or first_tweet=list(thai_json.keys())[0]\n",
        "# thai_json[first_tweet]['content']\n",
        "# 3\n",
        "hashtags = thai_pd['hashtags'][0]\n",
        "mentions = thai_pd['mentions'][0]\n",
        "#thai_json[first_tweet]['hashtags']\n",
        "# 4\n",
        "has_list = [[thai_pd['hashtags'][2],thai_pd['hashtags'][5],thai_pd['hashtags'][11],thai_pd['hashtags'][12],thai_pd['hashtags'][-4],thai_pd['hashtags'][-10]]]\n",
        "# 5\n",
        "metric = thai_pd[['tweet_id','name','username','retweets']]\n",
        "Report_five = metric.reindex().sort_values(by='retweets',ascending = False)\n",
        "# 6\n",
        "Report_six = Report_five.head(5)\n",
        "# 7\n",
        "contents = \" \".join([thai_json[key]['content'] for key in thai_json.keys()])\n",
        "my_stopwords = set(STOPWORDS)\n",
        "wordcloud = WordCloud(stopwords=my_stopwords).generate(contents)\n",
        "print('report')\n",
        "print(f'total_number = \"{total_number}\" ')\n",
        "print(f'The content of the first tweet is \"{content_first}\"')\n",
        "print(f'Is the first tweet contained any hashtags is \"{hashtags}\" and Is the first tweet contained any mentions is \"{mentions}\"')\n",
        "print(f'Collect all hashtags related to Thailand is {has_list}')\n",
        "print('the most popular tweetswith the largest number of retweet is')\n",
        "print(Report_five)\n",
        "print('the top 5 tweets that are the most popular is')\n",
        "print(Report_six)\n",
        "print('Create a word cloud of words in the contents')\n",
        "plt.imshow(wordcloud, interpolation='bilinear')\n",
        "plt.axis(\"off\")\n",
        "plt.show()\n",
        "\n"
      ]
    },
    {
      "cell_type": "markdown",
      "source": [
        "#Test code\n",
        "\n",
        "---\n",
        "\n",
        "\n",
        "\n"
      ],
      "metadata": {
        "id": "2566Tex4bP0q"
      },
      "id": "2566Tex4bP0q"
    },
    {
      "cell_type": "code",
      "source": [
        "has_list = [[thai_pd['hashtags'][2],thai_pd['hashtags'][5],thai_pd['hashtags'][11],thai_pd['hashtags'][12],thai_pd['hashtags'][-4],thai_pd['hashtags'][-10]]]\n",
        "has_list"
      ],
      "metadata": {
        "colab": {
          "base_uri": "https://localhost:8080/"
        },
        "id": "7GZ4Pb3-YsZs",
        "outputId": "ef3ce574-ed70-402a-dd90-80ee9a0cdef7"
      },
      "id": "7GZ4Pb3-YsZs",
      "execution_count": 26,
      "outputs": [
        {
          "output_type": "execute_result",
          "data": {
            "text/plain": [
              "[[['thailand', 'pattaya'],\n",
              "  ['4', 'ohmpawat', 'ย'],\n",
              "  ['pattaya', 'Thailand'],\n",
              "  ['SDA2022', 'voteforppkritt', 'ppkritt'],\n",
              "  ['เปกผล', 'PeckPaLitChoke'],\n",
              "  ['LISA', 'LALISA', 'Money']]]"
            ]
          },
          "metadata": {},
          "execution_count": 26
        }
      ]
    },
    {
      "cell_type": "code",
      "source": [
        "contents = \" \".join([thai_json[key]['content'] for key in thai_json.keys()])\n",
        "print(contents)\n",
        "my_stopwords = set(STOPWORDS)\n",
        "wordcloud = WordCloud(stopwords=my_stopwords).generate(contents)\n",
        "plt.imshow(wordcloud, interpolation='bilinear')\n",
        "plt.axis(\"off\")\n",
        "plt.show()"
      ],
      "metadata": {
        "id": "6OUsD9cwWhrR"
      },
      "id": "6OUsD9cwWhrR",
      "execution_count": null,
      "outputs": []
    },
    {
      "cell_type": "code",
      "source": [
        "flat_list = [item for sublist in list(thai_json.keys()) for item in sublist]\n",
        "#flat_list"
      ],
      "metadata": {
        "id": "lQyzkwWWqlZW"
      },
      "id": "lQyzkwWWqlZW",
      "execution_count": null,
      "outputs": []
    },
    {
      "cell_type": "code",
      "source": [
        "has_list = []\n",
        "for i in list(thai_json.keys()):\n",
        "  L = thai_json[i]['hashtags']\n",
        "  has_list.append(L)\n",
        "flat_list = [item for sublist in has_list for item in sublist]\n",
        "flat_list"
      ],
      "metadata": {
        "colab": {
          "base_uri": "https://localhost:8080/"
        },
        "id": "7NVI0iryWIIb",
        "outputId": "6291737a-b02a-4593-d873-d5bd44a9363e"
      },
      "id": "7NVI0iryWIIb",
      "execution_count": null,
      "outputs": [
        {
          "output_type": "execute_result",
          "data": {
            "text/plain": [
              "['VirtualPhotography',\n",
              " 'thailand',\n",
              " 'pattaya',\n",
              " 'fantasy',\n",
              " 'extraterrestrial',\n",
              " '4',\n",
              " 'ohmpawat',\n",
              " 'ย',\n",
              " 'DonnyPangilinan',\n",
              " 'faraway',\n",
              " 'theotherside',\n",
              " 'MarkTuan',\n",
              " 'ICYMI',\n",
              " 'pattaya',\n",
              " 'Thailand',\n",
              " 'SDA2022',\n",
              " 'voteforppkritt',\n",
              " 'ppkritt',\n",
              " 'LISA',\n",
              " 'LALISA',\n",
              " 'Money',\n",
              " 'JAYB',\n",
              " '제이비',\n",
              " 'GOT7',\n",
              " '갓세븐',\n",
              " 'CDNZA',\n",
              " 'Def',\n",
              " 'Zunshine',\n",
              " 'เปกผล',\n",
              " 'PeckPaLitChoke']"
            ]
          },
          "metadata": {},
          "execution_count": 190
        }
      ]
    },
    {
      "cell_type": "code",
      "source": [
        "show_has_list=thai_pd[thai_pd['hashtags'] == '[has_list]']\n",
        "show_has_list"
      ],
      "metadata": {
        "colab": {
          "base_uri": "https://localhost:8080/",
          "height": 53
        },
        "id": "rQ9Wsdvdv3Ij",
        "outputId": "64605773-31a3-4ea6-8480-b53c01cadc3a"
      },
      "id": "rQ9Wsdvdv3Ij",
      "execution_count": null,
      "outputs": [
        {
          "output_type": "execute_result",
          "data": {
            "text/plain": [
              "Empty DataFrame\n",
              "Columns: [tweet_id, username, name, profile_picture, replies, retweets, likes, is_retweet, posted_time, content, hashtags, mentions, images, videos, tweet_url, link]\n",
              "Index: []"
            ],
            "text/html": [
              "\n",
              "  <div id=\"df-98b46c6c-b5b8-442c-abcd-b447b5f0b7f8\" class=\"colab-df-container\">\n",
              "    <div>\n",
              "<style scoped>\n",
              "    .dataframe tbody tr th:only-of-type {\n",
              "        vertical-align: middle;\n",
              "    }\n",
              "\n",
              "    .dataframe tbody tr th {\n",
              "        vertical-align: top;\n",
              "    }\n",
              "\n",
              "    .dataframe thead th {\n",
              "        text-align: right;\n",
              "    }\n",
              "</style>\n",
              "<table border=\"1\" class=\"dataframe\">\n",
              "  <thead>\n",
              "    <tr style=\"text-align: right;\">\n",
              "      <th></th>\n",
              "      <th>tweet_id</th>\n",
              "      <th>username</th>\n",
              "      <th>name</th>\n",
              "      <th>profile_picture</th>\n",
              "      <th>replies</th>\n",
              "      <th>retweets</th>\n",
              "      <th>likes</th>\n",
              "      <th>is_retweet</th>\n",
              "      <th>posted_time</th>\n",
              "      <th>content</th>\n",
              "      <th>hashtags</th>\n",
              "      <th>mentions</th>\n",
              "      <th>images</th>\n",
              "      <th>videos</th>\n",
              "      <th>tweet_url</th>\n",
              "      <th>link</th>\n",
              "    </tr>\n",
              "  </thead>\n",
              "  <tbody>\n",
              "  </tbody>\n",
              "</table>\n",
              "</div>\n",
              "    <div class=\"colab-df-buttons\">\n",
              "\n",
              "  <div class=\"colab-df-container\">\n",
              "    <button class=\"colab-df-convert\" onclick=\"convertToInteractive('df-98b46c6c-b5b8-442c-abcd-b447b5f0b7f8')\"\n",
              "            title=\"Convert this dataframe to an interactive table.\"\n",
              "            style=\"display:none;\">\n",
              "\n",
              "  <svg xmlns=\"http://www.w3.org/2000/svg\" height=\"24px\" viewBox=\"0 -960 960 960\">\n",
              "    <path d=\"M120-120v-720h720v720H120Zm60-500h600v-160H180v160Zm220 220h160v-160H400v160Zm0 220h160v-160H400v160ZM180-400h160v-160H180v160Zm440 0h160v-160H620v160ZM180-180h160v-160H180v160Zm440 0h160v-160H620v160Z\"/>\n",
              "  </svg>\n",
              "    </button>\n",
              "\n",
              "  <style>\n",
              "    .colab-df-container {\n",
              "      display:flex;\n",
              "      gap: 12px;\n",
              "    }\n",
              "\n",
              "    .colab-df-convert {\n",
              "      background-color: #E8F0FE;\n",
              "      border: none;\n",
              "      border-radius: 50%;\n",
              "      cursor: pointer;\n",
              "      display: none;\n",
              "      fill: #1967D2;\n",
              "      height: 32px;\n",
              "      padding: 0 0 0 0;\n",
              "      width: 32px;\n",
              "    }\n",
              "\n",
              "    .colab-df-convert:hover {\n",
              "      background-color: #E2EBFA;\n",
              "      box-shadow: 0px 1px 2px rgba(60, 64, 67, 0.3), 0px 1px 3px 1px rgba(60, 64, 67, 0.15);\n",
              "      fill: #174EA6;\n",
              "    }\n",
              "\n",
              "    .colab-df-buttons div {\n",
              "      margin-bottom: 4px;\n",
              "    }\n",
              "\n",
              "    [theme=dark] .colab-df-convert {\n",
              "      background-color: #3B4455;\n",
              "      fill: #D2E3FC;\n",
              "    }\n",
              "\n",
              "    [theme=dark] .colab-df-convert:hover {\n",
              "      background-color: #434B5C;\n",
              "      box-shadow: 0px 1px 3px 1px rgba(0, 0, 0, 0.15);\n",
              "      filter: drop-shadow(0px 1px 2px rgba(0, 0, 0, 0.3));\n",
              "      fill: #FFFFFF;\n",
              "    }\n",
              "  </style>\n",
              "\n",
              "    <script>\n",
              "      const buttonEl =\n",
              "        document.querySelector('#df-98b46c6c-b5b8-442c-abcd-b447b5f0b7f8 button.colab-df-convert');\n",
              "      buttonEl.style.display =\n",
              "        google.colab.kernel.accessAllowed ? 'block' : 'none';\n",
              "\n",
              "      async function convertToInteractive(key) {\n",
              "        const element = document.querySelector('#df-98b46c6c-b5b8-442c-abcd-b447b5f0b7f8');\n",
              "        const dataTable =\n",
              "          await google.colab.kernel.invokeFunction('convertToInteractive',\n",
              "                                                    [key], {});\n",
              "        if (!dataTable) return;\n",
              "\n",
              "        const docLinkHtml = 'Like what you see? Visit the ' +\n",
              "          '<a target=\"_blank\" href=https://colab.research.google.com/notebooks/data_table.ipynb>data table notebook</a>'\n",
              "          + ' to learn more about interactive tables.';\n",
              "        element.innerHTML = '';\n",
              "        dataTable['output_type'] = 'display_data';\n",
              "        await google.colab.output.renderOutput(dataTable, element);\n",
              "        const docLink = document.createElement('div');\n",
              "        docLink.innerHTML = docLinkHtml;\n",
              "        element.appendChild(docLink);\n",
              "      }\n",
              "    </script>\n",
              "  </div>\n",
              "\n",
              "    </div>\n",
              "  </div>\n"
            ]
          },
          "metadata": {},
          "execution_count": 209
        }
      ]
    },
    {
      "cell_type": "code",
      "source": [
        "def showHashtag(data) :\n",
        "   i = 0;\n",
        "   obj = JSON.parse(data);\n",
        "   console.log(obj.hashtags[i].text);\n"
      ],
      "metadata": {
        "id": "hy0S4xcKk0H2"
      },
      "id": "hy0S4xcKk0H2",
      "execution_count": null,
      "outputs": []
    },
    {
      "cell_type": "code",
      "source": [
        "#list(thai_json.keys())"
      ],
      "metadata": {
        "id": "xM-M2ckrojaU"
      },
      "id": "xM-M2ckrojaU",
      "execution_count": null,
      "outputs": []
    },
    {
      "cell_type": "code",
      "source": [
        "L_1 = thai_json['1564764845685280772']['hashtags']\n",
        "len(L_1)"
      ],
      "metadata": {
        "colab": {
          "base_uri": "https://localhost:8080/"
        },
        "id": "CoPGwgS2k_U_",
        "outputId": "ed832e6e-6466-4b73-d830-eadc2fca6276"
      },
      "id": "CoPGwgS2k_U_",
      "execution_count": null,
      "outputs": [
        {
          "output_type": "execute_result",
          "data": {
            "text/plain": [
              "2"
            ]
          },
          "metadata": {},
          "execution_count": 168
        }
      ]
    },
    {
      "cell_type": "code",
      "source": [
        "L = [['1','2','3'],'2','3',['6','7']]\n",
        "flat_list = [item for sublist in L for item in sublist]\n",
        "flat_list"
      ],
      "metadata": {
        "colab": {
          "base_uri": "https://localhost:8080/"
        },
        "id": "EjJmszpdpOwW",
        "outputId": "340e0467-cad8-4a7e-c3fb-dc124154fe90"
      },
      "id": "EjJmszpdpOwW",
      "execution_count": null,
      "outputs": [
        {
          "output_type": "execute_result",
          "data": {
            "text/plain": [
              "['1', '2', '3', '2', '3', '6', '7']"
            ]
          },
          "metadata": {},
          "execution_count": 180
        }
      ]
    },
    {
      "cell_type": "markdown",
      "source": [
        "\n",
        "\n",
        "---\n",
        "\n"
      ],
      "metadata": {
        "id": "L-WA7Gcybdq7"
      },
      "id": "L-WA7Gcybdq7"
    },
    {
      "cell_type": "code",
      "source": [
        "#dict.fromkeys(has_list)"
      ],
      "metadata": {
        "id": "Bm3XE93EcMUy"
      },
      "id": "Bm3XE93EcMUy",
      "execution_count": null,
      "outputs": []
    },
    {
      "cell_type": "markdown",
      "id": "c2cf90e5",
      "metadata": {
        "id": "c2cf90e5"
      },
      "source": [
        "Note: ไม่ต้องรายงานส่วนนี้ในสไลด์"
      ]
    },
    {
      "cell_type": "markdown",
      "id": "ccb8731c",
      "metadata": {
        "id": "ccb8731c"
      },
      "source": [
        "## Problem 2 Study Trip Advisor Hotel Reviews Sentiment"
      ]
    },
    {
      "cell_type": "markdown",
      "id": "9da6a800",
      "metadata": {
        "id": "9da6a800"
      },
      "source": [
        "We are working with the Trip Advisor Hotel Reviews dataset. You can see the source from https://www.kaggle.com/datasets/andrewmvd/trip-advisor-hotel-reviews."
      ]
    },
    {
      "cell_type": "markdown",
      "id": "19996e72",
      "metadata": {
        "id": "19996e72"
      },
      "source": [
        "* Analyze the data to find out what make a hotel good or bad\n",
        "<br>You may create a tag of \"positive\", \"negative\", or \"neural\" sentiment first. After tagging each tweet with different sentiment, we can separate positive tweets and negative tweets. Then, it is easier to find our common patterns in positive tweets or good hotels, and vice versa."
      ]
    },
    {
      "cell_type": "code",
      "execution_count": null,
      "id": "3a55e834",
      "metadata": {
        "id": "3a55e834"
      },
      "outputs": [],
      "source": [
        "#----------------------------------------------\n",
        "# Your code starts here\n",
        "# label each tweet as positive, negative, and neural sentiment\n",
        "positive = [[]]\n",
        "negative = [[]]\n",
        "neural = [[]]\n",
        "# combine tweet texts in each type\n",
        "# tokenize texts\n",
        "# convert to lower case\n",
        "# remove stop words\n",
        "# remove any other stop words, like RT\n",
        "# remove punctuations\n",
        "# remove other symbols?\n",
        "# analyze word frequency in each sentiment type and so on\n",
        "# create some data visualization for the analysis and your presentation\n",
        "\n",
        "\n",
        "\n"
      ]
    },
    {
      "cell_type": "code",
      "execution_count": null,
      "id": "c1e78959",
      "metadata": {
        "id": "c1e78959"
      },
      "outputs": [],
      "source": []
    },
    {
      "cell_type": "markdown",
      "id": "0b4cf7eb",
      "metadata": {
        "id": "0b4cf7eb"
      },
      "source": [
        "### Report\n",
        "* How did you analyze the data?\n",
        "* What did you find in the data? (please include figures or tables in the report, but no source code)"
      ]
    },
    {
      "cell_type": "markdown",
      "id": "38795f4f",
      "metadata": {
        "id": "38795f4f"
      },
      "source": [
        "## Problem 3 Collect and Analyze Your Interesting Topic"
      ]
    },
    {
      "cell_type": "markdown",
      "id": "9d03d587",
      "metadata": {
        "id": "9d03d587"
      },
      "source": [
        "* Select a topic that your group members are interested\n",
        "* Gather url from at least 3 webpages\n",
        "* Use urllib.request to retrieve data from webpage\n",
        "* Clean and find intersting patterns and information\n",
        "* Create a word cloud of your topic"
      ]
    },
    {
      "cell_type": "code",
      "execution_count": null,
      "id": "667c35f5",
      "metadata": {
        "id": "667c35f5"
      },
      "outputs": [],
      "source": [
        "#----------------------------------------------\n",
        "# Your code starts here\n",
        "\n",
        "\n"
      ]
    },
    {
      "cell_type": "markdown",
      "id": "40357580",
      "metadata": {
        "id": "40357580"
      },
      "source": [
        "### Report\n",
        "* What did you find out about your topic? (please include figures or tables in the report, but no source code)"
      ]
    },
    {
      "cell_type": "markdown",
      "id": "8a13de1d",
      "metadata": {
        "id": "8a13de1d"
      },
      "source": [
        "# ☃️ The End of Project 1 ☃️"
      ]
    }
  ],
  "metadata": {
    "kernelspec": {
      "display_name": "Python 3 (ipykernel)",
      "language": "python",
      "name": "python3"
    },
    "language_info": {
      "codemirror_mode": {
        "name": "ipython",
        "version": 3
      },
      "file_extension": ".py",
      "mimetype": "text/x-python",
      "name": "python",
      "nbconvert_exporter": "python",
      "pygments_lexer": "ipython3",
      "version": "3.8.8"
    },
    "colab": {
      "provenance": [],
      "include_colab_link": true
    }
  },
  "nbformat": 4,
  "nbformat_minor": 5
}